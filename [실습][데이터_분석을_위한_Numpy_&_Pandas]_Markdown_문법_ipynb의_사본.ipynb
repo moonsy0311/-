{
  "nbformat": 4,
  "nbformat_minor": 0,
  "metadata": {
    "colab": {
      "provenance": [],
      "toc_visible": true,
      "include_colab_link": true
    },
    "kernelspec": {
      "name": "python3",
      "display_name": "Python 3"
    },
    "language_info": {
      "name": "python"
    }
  },
  "cells": [
    {
      "cell_type": "markdown",
      "metadata": {
        "id": "view-in-github",
        "colab_type": "text"
      },
      "source": [
        "<a href=\"https://colab.research.google.com/github/moonsy0311/-/blob/main/%5B%EC%8B%A4%EC%8A%B5%5D%5B%EB%8D%B0%EC%9D%B4%ED%84%B0_%EB%B6%84%EC%84%9D%EC%9D%84_%EC%9C%84%ED%95%9C_Numpy_%26_Pandas%5D_Markdown_%EB%AC%B8%EB%B2%95_ipynb%EC%9D%98_%EC%82%AC%EB%B3%B8.ipynb\" target=\"_parent\"><img src=\"https://colab.research.google.com/assets/colab-badge.svg\" alt=\"Open In Colab\"/></a>"
      ]
    },
    {
      "cell_type": "markdown",
      "source": [
        "# 1. 제목 (Headers)"
      ],
      "metadata": {
        "id": "_JaZRLE3mjql"
      }
    },
    {
      "cell_type": "markdown",
      "source": [
        "```\n",
        "# 제목 1\n",
        "## 제목 2\n",
        "### 제목 3\n",
        "#### 제목 4\n",
        "##### 제목 5\n",
        "###### 제목 6\n",
        "\n",
        "```\n",
        "# 제목 1\n",
        "## 제목 2\n",
        "### 제목 3\n",
        "#### 제목 4\n",
        "##### 제목 5\n",
        "###### 제목 6"
      ],
      "metadata": {
        "id": "P6lAOQbvmcWr"
      }
    },
    {
      "cell_type": "markdown",
      "source": [
        "# 2. 텍스트 형식 (Text Formatting)"
      ],
      "metadata": {
        "id": "l5lHDMUMmmGh"
      }
    },
    {
      "cell_type": "markdown",
      "source": [
        "```\n",
        "**굵은 글씨**  \n",
        "*기울임 글씨*  \n",
        "***굵은 기울임 글씨***  \n",
        "~~취소선~~\n",
        "```\n",
        "**굵은 글씨**  \n",
        "*기울임 글씨*  \n",
        "***굵은 기울임 글씨***  \n",
        "~~취소선~~"
      ],
      "metadata": {
        "id": "qjetcuFOmnlf"
      }
    },
    {
      "cell_type": "markdown",
      "source": [
        "# 3. 목록 (Lists)\n"
      ],
      "metadata": {
        "id": "m1SGb2G2mq1-"
      }
    },
    {
      "cell_type": "markdown",
      "source": [
        "```\n",
        "- 아이템 1\n",
        "- 아이템 2\n",
        "  - 서브 아이템 1\n",
        "  - 서브 아이템 2\n",
        "- 아이템 3\n",
        "```\n",
        "- 아이템 1\n",
        "- 아이템 2\n",
        "  - 서브 아이템 1\n",
        "  - 서브 아이템 2\n",
        "- 아이템 3\n"
      ],
      "metadata": {
        "id": "nUpTL7IemsDo"
      }
    },
    {
      "cell_type": "markdown",
      "source": [
        "```\n",
        "1. 첫 번째 아이템\n",
        "2. 두 번째 아이템\n",
        "   1. 서브 아이템 1\n",
        "   2. 서브 아이템 2\n",
        "3. 세 번째 아이템\n",
        "\n",
        "```\n",
        "1. 첫 번째 아이템\n",
        "2. 두 번째 아이템\n",
        "   1. 서브 아이템 1\n",
        "   2. 서브 아이템 2\n",
        "3. 세 번째 아이템\n"
      ],
      "metadata": {
        "id": "EJ-MtssUmvaE"
      }
    },
    {
      "cell_type": "markdown",
      "source": [
        "# 4. 링크 (Links)\n"
      ],
      "metadata": {
        "id": "MXa7RTZJmz46"
      }
    },
    {
      "cell_type": "markdown",
      "source": [
        "```\n",
        "[Google](https://www.google.com)\n",
        "```\n",
        "[Google](https://www.google.com)\n"
      ],
      "metadata": {
        "id": "M_gQQNuZmxjM"
      }
    },
    {
      "cell_type": "markdown",
      "source": [
        "```\n",
        "[Google](https://www.google.com \"Google 홈페이지 - 툴팁 기능\")\n",
        "```"
      ],
      "metadata": {
        "id": "gd0EuFED6c6t"
      }
    },
    {
      "cell_type": "markdown",
      "source": [
        "[Google](https://www.google.com \"Google 홈페이지 - 툴팁 기능\")"
      ],
      "metadata": {
        "id": "18FRHqmk6ayW"
      }
    },
    {
      "cell_type": "markdown",
      "source": [
        "# 5. 이미지 (Images)\n"
      ],
      "metadata": {
        "id": "LUdNJI35m3A2"
      }
    },
    {
      "cell_type": "markdown",
      "source": [
        "```\n",
        "![대체 텍스트](https://via.placeholder.com/150)\n",
        "```\n",
        "![대체 텍스트](https://via.placeholder.com/150)\n"
      ],
      "metadata": {
        "id": "JSBcJq6om4Cw"
      }
    },
    {
      "cell_type": "markdown",
      "source": [
        "# 6. 인용 (Blockquotes)\n"
      ],
      "metadata": {
        "id": "2ZJX1T_pm-B0"
      }
    },
    {
      "cell_type": "markdown",
      "source": [
        "```\n",
        "> 인용문\n",
        ">> 중첩된 인용문\n",
        "```\n",
        "> 인용문\n",
        ">> 중첩된 인용문\n"
      ],
      "metadata": {
        "id": "AcGNyWt5m6ma"
      }
    },
    {
      "cell_type": "markdown",
      "source": [
        "# 7. 코드 (Code)\n"
      ],
      "metadata": {
        "id": "UL6icXh7m_cy"
      }
    },
    {
      "cell_type": "markdown",
      "source": [
        "```\n",
        "`인라인 코드`\n",
        "```\n",
        "`인라인 코드`\n",
        "강조하고 싶을 때 씀\n"
      ],
      "metadata": {
        "id": "9JHclaW8nA_4"
      }
    },
    {
      "cell_type": "markdown",
      "source": [
        "```python\n",
        "def hello_world():\n",
        "    print(\"Hello, world!\")\n",
        "```\n",
        "python해놓으면 알아서 코드에 색칠해줌"
      ],
      "metadata": {
        "id": "q3s8YU50nDQK"
      }
    },
    {
      "cell_type": "markdown",
      "source": [
        "# 8. 수평선 (Horizontal Rule)\n"
      ],
      "metadata": {
        "id": "eFd_duyHnR3W"
      }
    },
    {
      "cell_type": "markdown",
      "source": [
        "```\n",
        "---\n",
        "```\n",
        "---"
      ],
      "metadata": {
        "id": "_A7OXY9AnS6W"
      }
    },
    {
      "cell_type": "markdown",
      "source": [
        "# 9. 테이블 (Tables)\n"
      ],
      "metadata": {
        "id": "a9BtlD63nWj0"
      }
    },
    {
      "cell_type": "markdown",
      "source": [
        "```\n",
        "| 헤더 1 | 헤더 2 | 헤더 3 |\n",
        "|--------|--------|--------|\n",
        "| 셀 1   | 셀 2   | 셀 3   |\n",
        "| 셀 4   | 셀 5   | 셀 6   |\n",
        "| 셀 7   | 셀 8   | 셀 9   |\n",
        "```\n",
        "| 헤더 1 | 헤더 2 | 헤더 3 |\n",
        "|--------|--------|--------|\n",
        "| 셀 1   | 셀 2   | 셀 3   |\n",
        "| 셀 4   | 셀 5   | 셀 6   |\n",
        "| 셀 7   | 셀 8   | 셀 9   |\n"
      ],
      "metadata": {
        "id": "DLlHu3wTnXpg"
      }
    },
    {
      "cell_type": "markdown",
      "source": [
        "# 10. 체크리스트 (Task List)\n"
      ],
      "metadata": {
        "id": "ah2Ik8WtnZxk"
      }
    },
    {
      "cell_type": "markdown",
      "source": [
        "```\n",
        "- [x] 완료된 아이템\n",
        "- [ ] 미완료된 아이템\n",
        "```\n",
        "- [x] 완료된 아이템\n",
        "- [ ] 미완료된 아이템\n"
      ],
      "metadata": {
        "id": "AQrsJAiMnbcc"
      }
    },
    {
      "cell_type": "markdown",
      "source": [
        "# 11. 이모지 (Emoji)\n"
      ],
      "metadata": {
        "id": "RTumlh3dndxx"
      }
    },
    {
      "cell_type": "markdown",
      "source": [
        ":```\n",
        "😀 😃 😄 😁 😆\n",
        "```\n",
        "😀 😃 😄 😁 😆\n"
      ],
      "metadata": {
        "id": "JpVJe7dknfNX"
      }
    },
    {
      "cell_type": "markdown",
      "source": [
        "# 12. 줄 바꿈 (Line Breaks)"
      ],
      "metadata": {
        "id": "QPfhV2Xp7L8-"
      }
    },
    {
      "cell_type": "markdown",
      "source": [
        "\n",
        "```\n",
        "문장 끝에 두 개의 공백을 추가하면 줄 바꿈을 할 수 있습니다.  \n",
        "이것은 두 번째 줄입니다.\n",
        "```"
      ],
      "metadata": {
        "id": "3220ygNP7Qao"
      }
    },
    {
      "cell_type": "markdown",
      "source": [
        "문장 끝에 두 개의 공백을 추가하면 줄 바꿈을 할 수 있습니다.  \n",
        "이것은 두 번째 줄입니다."
      ],
      "metadata": {
        "id": "LCMZ6CiQ7U5z"
      }
    },
    {
      "cell_type": "markdown",
      "source": [
        "# 13. 하이퍼링크 내부 이미지 (Image within a Link)\n"
      ],
      "metadata": {
        "id": "uNuCBn0L7dxP"
      }
    },
    {
      "cell_type": "markdown",
      "source": [
        "```\n",
        "[![Alt text](https://via.placeholder.com/150)](https://www.google.com)\n",
        "```"
      ],
      "metadata": {
        "id": "bCMi_T0S7ffn"
      }
    },
    {
      "cell_type": "markdown",
      "source": [
        "[![Alt text](https://via.placeholder.com/150)](https://www.google.com)\n"
      ],
      "metadata": {
        "id": "IqBNLszc7hWR"
      }
    },
    {
      "cell_type": "markdown",
      "source": [
        "# 14. 주석 (Comments)\n"
      ],
      "metadata": {
        "id": "G7a0R0Wk7jWB"
      }
    },
    {
      "cell_type": "markdown",
      "source": [
        "```\n",
        "<!-- 여기는 주석입니다 이 주석은 최종 출력물에는 보이지 않습니다. -->\n",
        "```"
      ],
      "metadata": {
        "id": "SVhIlblz7v7Q"
      }
    },
    {
      "cell_type": "markdown",
      "source": [
        "<!-- 여기는 주석입니다 이 주석은 최종 출력물에는 보이지 않습니다. -->"
      ],
      "metadata": {
        "id": "osFmimP-7xJ4"
      }
    },
    {
      "cell_type": "markdown",
      "source": [
        "# 15. 수학 수식 (Math Formulas)"
      ],
      "metadata": {
        "id": "mOdya6zs8G7d"
      }
    },
    {
      "cell_type": "markdown",
      "source": [
        "```\n",
        "인라인 수식: $E = mc^2$\n",
        "블록 수식:\n",
        "$$\n",
        "E = mc^2\n",
        "$$\n",
        "\n",
        "```"
      ],
      "metadata": {
        "id": "y367TOiL8IPs"
      }
    },
    {
      "cell_type": "markdown",
      "source": [
        "인라인 수식: $E = mc^2$\n",
        "블록 수식:\n",
        "$$\n",
        "E = mc^2\n",
        "$$"
      ],
      "metadata": {
        "id": "EwzTjpb38JBE"
      }
    },
    {
      "cell_type": "markdown",
      "source": [
        "# 12. HTML 사용 (Using HTML)\n"
      ],
      "metadata": {
        "id": "nxqIxrIqnhMX"
      }
    },
    {
      "cell_type": "markdown",
      "source": [
        "```\n",
        "<b>굵은 글씨</b>\n",
        "<i>기울임 글씨</i>\n",
        "<a href=\"https://www.google.com\">Google</a>\n",
        "```\n",
        "<b>굵은 글씨</b>\n",
        "<i>기울임 글씨</i>\n",
        "<a href=\"https://www.google.com\">Google</a>\n"
      ],
      "metadata": {
        "id": "eegjGXignimv"
      }
    },
    {
      "cell_type": "markdown",
      "source": [
        "# 16. 인라인 HTML 블록 (Inline HTML Blocks)\n"
      ],
      "metadata": {
        "id": "1uf1T5Wa75Zt"
      }
    },
    {
      "cell_type": "markdown",
      "source": [
        "```\n",
        "<details>\n",
        "  <summary>더 보기</summary>\n",
        "  여기에 접이식 콘텐츠를 작성하세요.\n",
        "</details>\n",
        "```"
      ],
      "metadata": {
        "id": "l_uTn4ts8A55"
      }
    },
    {
      "cell_type": "markdown",
      "source": [
        "<details>\n",
        "  <summary>더 보기</summary>\n",
        "  여기에 접이식 콘텐츠를 작성하세요.\n",
        "</details>\n"
      ],
      "metadata": {
        "id": "IdDBPq9-8CKJ"
      }
    },
    {
      "cell_type": "markdown",
      "source": [
        "# 17. 보너스"
      ],
      "metadata": {
        "id": "6VuoHftq8O1g"
      }
    },
    {
      "cell_type": "code",
      "source": [
        "from IPython.core.display import display, HTML\n",
        "\n",
        "display(HTML('''\n",
        "<div style=\"display: flex; justify-content: center; align-items: center; color: white; font-size: 3em; background: linear-gradient(45deg, #ff0066, #ffcc00, #66ff66, #0066ff); padding: 10px; border-radius: 10px; text-shadow: 2px 2px 4px #000000; font-weight: bold; height: 100px;\">\n",
        "  <img src=\"https://i.namu.wiki/i/Lb7eKtk4XxDx_iQyGhkNaWvIjxuf7Sru1ok3d3F8XON6nZKgf5hqo2rfL2GPH-jVNjouxR7qkRJha84kRU1tyA.webp\" alt=\"보노보노\" style=\"width: 100px; height: 100px; margin-right: 10px;\">\n",
        "  감사합니다~\n",
        "</div>\n",
        "'''))"
      ],
      "metadata": {
        "colab": {
          "base_uri": "https://localhost:8080/",
          "height": 137
        },
        "id": "A2_3oNY19oKo",
        "outputId": "2ca3b1b0-52bf-429e-e5ad-7462b5c5a984"
      },
      "execution_count": null,
      "outputs": [
        {
          "output_type": "display_data",
          "data": {
            "text/plain": [
              "<IPython.core.display.HTML object>"
            ],
            "text/html": [
              "\n",
              "<div style=\"display: flex; justify-content: center; align-items: center; color: white; font-size: 3em; background: linear-gradient(45deg, #ff0066, #ffcc00, #66ff66, #0066ff); padding: 10px; border-radius: 10px; text-shadow: 2px 2px 4px #000000; font-weight: bold; height: 100px;\">\n",
              "  <img src=\"https://i.namu.wiki/i/Lb7eKtk4XxDx_iQyGhkNaWvIjxuf7Sru1ok3d3F8XON6nZKgf5hqo2rfL2GPH-jVNjouxR7qkRJha84kRU1tyA.webp\" alt=\"보노보노\" style=\"width: 100px; height: 100px; margin-right: 10px;\">\n",
              "  감사합니다~\n",
              "</div>\n"
            ]
          },
          "metadata": {}
        }
      ]
    },
    {
      "cell_type": "markdown",
      "source": [
        "# README.md"
      ],
      "metadata": {
        "id": "DgAnxcLOwee7"
      }
    },
    {
      "cell_type": "markdown",
      "source": [
        "# 🎓 데이터 분석가 포트폴리오\n",
        "\n",
        "제 데이터 분석가 포트폴리오에 오신 것을 환영합니다! 이곳에서는 저의 프로젝트, 기술 및 데이터 분석 분야에 대한 기여를 확인하실 수 있습니다.\n",
        "\n",
        "![프로필 이미지](https://via.placeholder.com/150)\n",
        "\n",
        "---\n",
        "\n",
        "## 📊 프로젝트\n",
        "\n",
        "### 프로젝트 1: 고객 이탈 예측\n",
        "**목표**: 머신 러닝 모델을 사용하여 통신 회사의 고객 이탈을 예측합니다.\n",
        "\n",
        "**사용 기술**:\n",
        "- Python (Pandas, Scikit-Learn, Matplotlib)\n",
        "- Jupyter Notebook\n",
        "- SQL\n",
        "\n",
        "**주요 결과**:\n",
        "- 랜덤 포레스트 모델로 85% 정확도 달성.\n",
        "- 고객 이탈에 영향을 미치는 주요 요인 식별.\n",
        "\n",
        "[프로젝트 저장소](https://github.com/username/churn-prediction) | [Jupyter Notebook](https://github.com/username/churn-prediction/blob/main/churn_prediction.ipynb)\n",
        "\n",
        "---\n",
        "\n",
        "### 프로젝트 2: 판매 데이터 분석\n",
        "**목표**: 판매 데이터를 분석하여 트렌드와 인사이트 도출.\n",
        "\n",
        "**사용 기술**:\n",
        "- Python (NumPy, Pandas, Seaborn)\n",
        "- Power BI\n",
        "- Excel\n",
        "\n",
        "**주요 결과**:\n",
        "- 휴가 시즌 동안 판매 증가 확인.\n",
        "- 상위 성과 제품 및 지역 식별.\n",
        "\n",
        "[프로젝트 저장소](https://github.com/username/sales-analysis) | [Power BI 대시보드](https://app.powerbi.com/view?r=some_unique_id)\n",
        "\n",
        "---\n",
        "\n",
        "## 📈 기술\n",
        "\n",
        "- **프로그래밍 언어**: Python, R, SQL\n",
        "- **데이터 시각화**: Matplotlib, Seaborn, Power BI, Tableau\n",
        "- **머신 러닝**: Scikit-Learn, TensorFlow, Keras\n",
        "- **데이터 조작**: Pandas, NumPy\n",
        "- **데이터베이스**: MySQL, PostgreSQL\n",
        "- **도구**: Jupyter Notebook, Git, Excel\n",
        "\n",
        "---\n",
        "\n",
        "## 🛠️ 도구 및 기술\n",
        "\n",
        "![Python](https://img.shields.io/badge/Python-3776AB?style=for-the-badge&logo=python&logoColor=white)\n",
        "![R](https://img.shields.io/badge/R-276DC3?style=for-the-badge&logo=r&logoColor=white)\n",
        "![SQL](https://img.shields.io/badge/SQL-4479A1?style=for-the-badge&logo=postgresql&logoColor=white)\n",
        "![Power BI](https://img.shields.io/badge/Power_BI-F2C811?style=for-the-badge&logo=power-bi&logoColor=white)\n",
        "![Tableau](https://img.shields.io/badge/Tableau-E97627?style=for-the-badge&logo=tableau&logoColor=white)\n",
        "\n",
        "---\n",
        "\n",
        "## 📝 블로그\n",
        "\n",
        "저는 데이터 분석, 머신 러닝 및 시각화에 대해 정기적으로 글을 씁니다. 최신 글을 확인해보세요:\n",
        "\n",
        "- [선형 회귀 이해하기](https://medium.com/@username/understanding-linear-regression-12345)\n",
        "- [데이터 시각화 모범 사례](https://medium.com/@username/data-visualization-best-practices-67890)\n",
        "- [SQL 시작하기](https://medium.com/@username/getting-started-with-sql-abcde)\n",
        "\n",
        "---\n",
        "\n",
        "## 📫 연락처\n",
        "\n",
        "문의 사항이나 협업 기회가 있으시면 언제든지 연락해 주세요:\n",
        "\n",
        "- **이메일**: [username@example.com](mailto:username@example.com)\n",
        "- **LinkedIn**: [linkedin.com/in/username](https://www.linkedin.com/in/username)\n",
        "- **GitHub**: [github.com/username](https://github.com/username)\n",
        "\n",
        "---\n",
        "\n",
        "포트폴리오를 방문해 주셔서 감사합니다! 여러분의 피드백과 제안은 언제나 환영합니다.\n"
      ],
      "metadata": {
        "id": "7h-pCjMgyWRw"
      }
    },
    {
      "cell_type": "markdown",
      "source": [
        "---"
      ],
      "metadata": {
        "id": "m1bAAMbfyJyB"
      }
    },
    {
      "cell_type": "markdown",
      "source": [
        "# README.md 2"
      ],
      "metadata": {
        "id": "N_i3SPowybbD"
      }
    },
    {
      "cell_type": "markdown",
      "source": [
        "# 🌟 데이터 분석 포트폴리오 🌟\n",
        "\n",
        "## 📚 소개\n",
        "이 포트폴리오는 다양한 데이터 분석 프로젝트를 포함하고 있습니다. 각 프로젝트는 데이터 전처리, 탐색적 데이터 분석(EDA), 모델링, 결과 해석 등을 포함합니다. 주로 Python의 Numpy와 Pandas 라이브러리를 사용하여 분석을 수행했습니다.\n",
        "\n",
        "## 📂 프로젝트 목록\n",
        "\n",
        "### 1. 💼 고객 이탈 예측 (Customer Churn Prediction)\n",
        "- **프로젝트 설명**: 이 프로젝트는 고객의 이탈을 예측하여 기업의 고객 유지 전략을 개선하는 것을 목표로 합니다.\n",
        "- **사용한 데이터**: [Kaggle 고객 이탈 데이터셋](https://www.kaggle.com/blastchar/telco-customer-churn)\n",
        "- **주요 기술**:\n",
        "  - 데이터 전처리: 결측치 처리, 범주형 변수 인코딩\n",
        "  - 탐색적 데이터 분석(EDA): 시각화를 통한 데이터 이해\n",
        "  - 모델링: 로지스틱 회귀, 랜덤 포레스트\n",
        "  - 평가: 정확도, ROC-AUC\n",
        "- **결과**: 모델의 ROC-AUC 점수는 0.85로 높은 예측 성능을 보였습니다.\n",
        "- **코드 및 보고서**: [프로젝트 링크](https://github.com/yourusername/customer-churn-prediction)\n",
        "\n",
        "### 2. 🎬 영화 평점 예측 (Movie Ratings Prediction)\n",
        "- **프로젝트 설명**: 이 프로젝트는 사용자의 영화 평점을 예측하여 개인화된 영화 추천 시스템을 구축하는 것을 목표로 합니다.\n",
        "- **사용한 데이터**: [MovieLens 데이터셋](https://grouplens.org/datasets/movielens/)\n",
        "- **주요 기술**:\n",
        "  - 데이터 전처리: 중복 데이터 제거, 스케일링\n",
        "  - 탐색적 데이터 분석(EDA): 히스토그램, 상관관계 분석\n",
        "  - 모델링: 협업 필터링, 행렬 분해\n",
        "  - 평가: RMSE, MAE\n",
        "- **결과**: 최종 모델의 RMSE는 0.89로 만족스러운 성능을 보였습니다.\n",
        "- **코드 및 보고서**: [프로젝트 링크](https://github.com/yourusername/movie-ratings-prediction)\n",
        "\n",
        "### 3. 📈 판매 데이터 분석 (Sales Data Analysis)\n",
        "- **프로젝트 설명**: 이 프로젝트는 판매 데이터를 분석하여 매출 증가를 위한 전략을 도출하는 것을 목표로 합니다.\n",
        "- **사용한 데이터**: [Sales 데이터셋](https://example.com/sales-dataset)\n",
        "- **주요 기술**:\n",
        "  - 데이터 전처리: 이상치 탐지 및 처리\n",
        "  - 탐색적 데이터 분석(EDA): 시간에 따른 매출 추이 분석, 상관분석\n",
        "  - 시각화: Matplotlib, Seaborn을 사용한 시각화\n",
        "- **결과**: 분석 결과 특정 제품군의 매출이 꾸준히 증가하고 있음을 확인하였고, 이에 따라 마케팅 전략을 조정했습니다.\n",
        "- **코드 및 보고서**: [프로젝트 링크](https://github.com/yourusername/sales-data-analysis)\n",
        "\n",
        "## 🛠 기술 스택\n",
        "- **프로그래밍 언어**: ![Python](https://img.shields.io/badge/Python-3776AB?style=for-the-badge&logo=python&logoColor=white)\n",
        "- **라이브러리**: ![Numpy](https://img.shields.io/badge/Numpy-013243?style=for-the-badge&logo=numpy&logoColor=white) ![Pandas](https://img.shields.io/badge/Pandas-150458?style=for-the-badge&logo=pandas&logoColor=white) ![Scikit-learn](https://img.shields.io/badge/Scikit--learn-F7931E?style=for-the-badge&logo=scikit-learn&logoColor=white) ![Matplotlib](https://img.shields.io/badge/Matplotlib-3776AB?style=for-the-badge&logo=python&logoColor=white) ![Seaborn](https://img.shields.io/badge/Seaborn-3776AB?style=for-the-badge&logo=python&logoColor=white)\n",
        "- **도구**: ![Jupyter](https://img.shields.io/badge/Jupyter-F37626?style=for-the-badge&logo=jupyter&logoColor=white) ![Git](https://img.shields.io/badge/Git-F05032?style=for-the-badge&logo=git&logoColor=white) ![Github](https://img.shields.io/badge/Github-181717?style=for-the-badge&logo=github&logoColor=white)\n",
        "\n",
        "## 📬 연락처\n",
        "- **이메일**: your.email@example.com\n",
        "- **LinkedIn**: [프로필 링크](https://www.linkedin.com/in/yourprofile)\n",
        "- **Github**: [프로필 링크](https://github.com/yourusername)\n"
      ],
      "metadata": {
        "id": "i4-33qsgyKdx"
      }
    }
  ]
}