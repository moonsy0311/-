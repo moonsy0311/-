{
  "nbformat": 4,
  "nbformat_minor": 0,
  "metadata": {
    "colab": {
      "provenance": [],
      "toc_visible": true,
      "include_colab_link": true
    },
    "kernelspec": {
      "name": "python3",
      "display_name": "Python 3"
    },
    "language_info": {
      "name": "python"
    }
  },
  "cells": [
    {
      "cell_type": "markdown",
      "metadata": {
        "id": "view-in-github",
        "colab_type": "text"
      },
      "source": [
        "<a href=\"https://colab.research.google.com/github/moonsy0311/-/blob/main/%ED%8C%8C%EC%9D%B4%EC%8D%AC_%EB%B9%84%EA%B8%B0%EB%84%88_pandas_%EC%8B%9C%EA%B0%81%ED%99%94.ipynb\" target=\"_parent\"><img src=\"https://colab.research.google.com/assets/colab-badge.svg\" alt=\"Open In Colab\"/></a>"
      ]
    },
    {
      "cell_type": "markdown",
      "source": [
        "![온스캠_로고.png](data:image/png;base64,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)"
      ],
      "metadata": {
        "id": "0uM7ptcqhw_v"
      }
    },
    {
      "cell_type": "markdown",
      "source": [
        "---"
      ],
      "metadata": {
        "id": "A3V7usr8tn3B"
      }
    },
    {
      "cell_type": "code",
      "source": [
        "# 한글 폰트 설치\n",
        "! rm -rf NanumFont*\n",
        "! wget http://cdn.naver.com/naver/NanumFont/fontfiles/NanumFont_TTF_ALL.zip\n",
        "! unzip NanumFont_TTF_ALL.zip -d NanumFont\n",
        "! rm -rf NanumFont_TTF_ALL.zip"
      ],
      "metadata": {
        "id": "sbuzgYJdwWbz"
      },
      "execution_count": null,
      "outputs": []
    },
    {
      "cell_type": "code",
      "source": [
        "import matplotlib.pyplot as plt\n",
        "from matplotlib import font_manager\n",
        "\n",
        "font_path = '/content/NanumFont/NanumGothic.ttf'\n",
        "font_manager.fontManager.addfont(font_path)\n",
        "prop = font_manager.FontProperties(fname=font_path)\n",
        "plt.rcParams['font.family'] = prop.get_name()\n",
        "plt.rcParams['axes.unicode_minus'] = False"
      ],
      "metadata": {
        "id": "66FqG__ywYCO"
      },
      "execution_count": null,
      "outputs": []
    },
    {
      "cell_type": "markdown",
      "source": [
        "<img src=\"https://pandas.pydata.org/static/img/pandas.svg\" height=\"100\">"
      ],
      "metadata": {
        "id": "tUN1KaL8thIG"
      }
    },
    {
      "cell_type": "code",
      "execution_count": null,
      "metadata": {
        "id": "TiskmLLUoAw2"
      },
      "outputs": [],
      "source": [
        "import pandas as pd"
      ]
    },
    {
      "cell_type": "code",
      "source": [
        "df = pd.read_excel(\"./salaries.xlsx\")"
      ],
      "metadata": {
        "id": "eGo66_w02f6B"
      },
      "execution_count": null,
      "outputs": []
    },
    {
      "cell_type": "code",
      "source": [
        "df"
      ],
      "metadata": {
        "colab": {
          "base_uri": "https://localhost:8080/",
          "height": 424
        },
        "id": "NXRqsF5R3QS-",
        "outputId": "9c5ab361-772e-421b-e5c7-2ebdb8700762"
      },
      "execution_count": null,
      "outputs": [
        {
          "output_type": "execute_result",
          "data": {
            "text/plain": [
              "      work_year experience_level                       job_title company_size  \\\n",
              "0          2023           Expert  Business Intelligence Engineer            L   \n",
              "1          2023           Expert  Business Intelligence Engineer            L   \n",
              "2          2023     Intermediate                    Data Manager            M   \n",
              "3          2023     Intermediate                    Data Manager            M   \n",
              "4          2023           Expert                  Data Scientist            M   \n",
              "...         ...              ...                             ...          ...   \n",
              "7969       2020           Expert                  Data Scientist            L   \n",
              "7970       2021     Intermediate        Principal Data Scientist            L   \n",
              "7971       2020           Junior                  Data Scientist            S   \n",
              "7972       2020           Junior           Business Data Analyst            L   \n",
              "7973       2021           Expert            Data Science Manager            L   \n",
              "\n",
              "      salary_in_usd  \n",
              "0            202800  \n",
              "1            104300  \n",
              "2             73824  \n",
              "3             67672  \n",
              "4            290000  \n",
              "...             ...  \n",
              "7969         412000  \n",
              "7970         151000  \n",
              "7971         105000  \n",
              "7972         100000  \n",
              "7973          94665  \n",
              "\n",
              "[7974 rows x 5 columns]"
            ],
            "text/html": [
              "\n",
              "  <div id=\"df-e0818fc7-4c25-467d-b85a-83e68fc20ef4\" class=\"colab-df-container\">\n",
              "    <div>\n",
              "<style scoped>\n",
              "    .dataframe tbody tr th:only-of-type {\n",
              "        vertical-align: middle;\n",
              "    }\n",
              "\n",
              "    .dataframe tbody tr th {\n",
              "        vertical-align: top;\n",
              "    }\n",
              "\n",
              "    .dataframe thead th {\n",
              "        text-align: right;\n",
              "    }\n",
              "</style>\n",
              "<table border=\"1\" class=\"dataframe\">\n",
              "  <thead>\n",
              "    <tr style=\"text-align: right;\">\n",
              "      <th></th>\n",
              "      <th>work_year</th>\n",
              "      <th>experience_level</th>\n",
              "      <th>job_title</th>\n",
              "      <th>company_size</th>\n",
              "      <th>salary_in_usd</th>\n",
              "    </tr>\n",
              "  </thead>\n",
              "  <tbody>\n",
              "    <tr>\n",
              "      <th>0</th>\n",
              "      <td>2023</td>\n",
              "      <td>Expert</td>\n",
              "      <td>Business Intelligence Engineer</td>\n",
              "      <td>L</td>\n",
              "      <td>202800</td>\n",
              "    </tr>\n",
              "    <tr>\n",
              "      <th>1</th>\n",
              "      <td>2023</td>\n",
              "      <td>Expert</td>\n",
              "      <td>Business Intelligence Engineer</td>\n",
              "      <td>L</td>\n",
              "      <td>104300</td>\n",
              "    </tr>\n",
              "    <tr>\n",
              "      <th>2</th>\n",
              "      <td>2023</td>\n",
              "      <td>Intermediate</td>\n",
              "      <td>Data Manager</td>\n",
              "      <td>M</td>\n",
              "      <td>73824</td>\n",
              "    </tr>\n",
              "    <tr>\n",
              "      <th>3</th>\n",
              "      <td>2023</td>\n",
              "      <td>Intermediate</td>\n",
              "      <td>Data Manager</td>\n",
              "      <td>M</td>\n",
              "      <td>67672</td>\n",
              "    </tr>\n",
              "    <tr>\n",
              "      <th>4</th>\n",
              "      <td>2023</td>\n",
              "      <td>Expert</td>\n",
              "      <td>Data Scientist</td>\n",
              "      <td>M</td>\n",
              "      <td>290000</td>\n",
              "    </tr>\n",
              "    <tr>\n",
              "      <th>...</th>\n",
              "      <td>...</td>\n",
              "      <td>...</td>\n",
              "      <td>...</td>\n",
              "      <td>...</td>\n",
              "      <td>...</td>\n",
              "    </tr>\n",
              "    <tr>\n",
              "      <th>7969</th>\n",
              "      <td>2020</td>\n",
              "      <td>Expert</td>\n",
              "      <td>Data Scientist</td>\n",
              "      <td>L</td>\n",
              "      <td>412000</td>\n",
              "    </tr>\n",
              "    <tr>\n",
              "      <th>7970</th>\n",
              "      <td>2021</td>\n",
              "      <td>Intermediate</td>\n",
              "      <td>Principal Data Scientist</td>\n",
              "      <td>L</td>\n",
              "      <td>151000</td>\n",
              "    </tr>\n",
              "    <tr>\n",
              "      <th>7971</th>\n",
              "      <td>2020</td>\n",
              "      <td>Junior</td>\n",
              "      <td>Data Scientist</td>\n",
              "      <td>S</td>\n",
              "      <td>105000</td>\n",
              "    </tr>\n",
              "    <tr>\n",
              "      <th>7972</th>\n",
              "      <td>2020</td>\n",
              "      <td>Junior</td>\n",
              "      <td>Business Data Analyst</td>\n",
              "      <td>L</td>\n",
              "      <td>100000</td>\n",
              "    </tr>\n",
              "    <tr>\n",
              "      <th>7973</th>\n",
              "      <td>2021</td>\n",
              "      <td>Expert</td>\n",
              "      <td>Data Science Manager</td>\n",
              "      <td>L</td>\n",
              "      <td>94665</td>\n",
              "    </tr>\n",
              "  </tbody>\n",
              "</table>\n",
              "<p>7974 rows × 5 columns</p>\n",
              "</div>\n",
              "    <div class=\"colab-df-buttons\">\n",
              "\n",
              "  <div class=\"colab-df-container\">\n",
              "    <button class=\"colab-df-convert\" onclick=\"convertToInteractive('df-e0818fc7-4c25-467d-b85a-83e68fc20ef4')\"\n",
              "            title=\"Convert this dataframe to an interactive table.\"\n",
              "            style=\"display:none;\">\n",
              "\n",
              "  <svg xmlns=\"http://www.w3.org/2000/svg\" height=\"24px\" viewBox=\"0 -960 960 960\">\n",
              "    <path d=\"M120-120v-720h720v720H120Zm60-500h600v-160H180v160Zm220 220h160v-160H400v160Zm0 220h160v-160H400v160ZM180-400h160v-160H180v160Zm440 0h160v-160H620v160ZM180-180h160v-160H180v160Zm440 0h160v-160H620v160Z\"/>\n",
              "  </svg>\n",
              "    </button>\n",
              "\n",
              "  <style>\n",
              "    .colab-df-container {\n",
              "      display:flex;\n",
              "      gap: 12px;\n",
              "    }\n",
              "\n",
              "    .colab-df-convert {\n",
              "      background-color: #E8F0FE;\n",
              "      border: none;\n",
              "      border-radius: 50%;\n",
              "      cursor: pointer;\n",
              "      display: none;\n",
              "      fill: #1967D2;\n",
              "      height: 32px;\n",
              "      padding: 0 0 0 0;\n",
              "      width: 32px;\n",
              "    }\n",
              "\n",
              "    .colab-df-convert:hover {\n",
              "      background-color: #E2EBFA;\n",
              "      box-shadow: 0px 1px 2px rgba(60, 64, 67, 0.3), 0px 1px 3px 1px rgba(60, 64, 67, 0.15);\n",
              "      fill: #174EA6;\n",
              "    }\n",
              "\n",
              "    .colab-df-buttons div {\n",
              "      margin-bottom: 4px;\n",
              "    }\n",
              "\n",
              "    [theme=dark] .colab-df-convert {\n",
              "      background-color: #3B4455;\n",
              "      fill: #D2E3FC;\n",
              "    }\n",
              "\n",
              "    [theme=dark] .colab-df-convert:hover {\n",
              "      background-color: #434B5C;\n",
              "      box-shadow: 0px 1px 3px 1px rgba(0, 0, 0, 0.15);\n",
              "      filter: drop-shadow(0px 1px 2px rgba(0, 0, 0, 0.3));\n",
              "      fill: #FFFFFF;\n",
              "    }\n",
              "  </style>\n",
              "\n",
              "    <script>\n",
              "      const buttonEl =\n",
              "        document.querySelector('#df-e0818fc7-4c25-467d-b85a-83e68fc20ef4 button.colab-df-convert');\n",
              "      buttonEl.style.display =\n",
              "        google.colab.kernel.accessAllowed ? 'block' : 'none';\n",
              "\n",
              "      async function convertToInteractive(key) {\n",
              "        const element = document.querySelector('#df-e0818fc7-4c25-467d-b85a-83e68fc20ef4');\n",
              "        const dataTable =\n",
              "          await google.colab.kernel.invokeFunction('convertToInteractive',\n",
              "                                                    [key], {});\n",
              "        if (!dataTable) return;\n",
              "\n",
              "        const docLinkHtml = 'Like what you see? Visit the ' +\n",
              "          '<a target=\"_blank\" href=https://colab.research.google.com/notebooks/data_table.ipynb>data table notebook</a>'\n",
              "          + ' to learn more about interactive tables.';\n",
              "        element.innerHTML = '';\n",
              "        dataTable['output_type'] = 'display_data';\n",
              "        await google.colab.output.renderOutput(dataTable, element);\n",
              "        const docLink = document.createElement('div');\n",
              "        docLink.innerHTML = docLinkHtml;\n",
              "        element.appendChild(docLink);\n",
              "      }\n",
              "    </script>\n",
              "  </div>\n",
              "\n",
              "\n",
              "<div id=\"df-43cf12f2-1652-4462-ab21-0a0ac4ad9311\">\n",
              "  <button class=\"colab-df-quickchart\" onclick=\"quickchart('df-43cf12f2-1652-4462-ab21-0a0ac4ad9311')\"\n",
              "            title=\"Suggest charts.\"\n",
              "            style=\"display:none;\">\n",
              "\n",
              "<svg xmlns=\"http://www.w3.org/2000/svg\" height=\"24px\"viewBox=\"0 0 24 24\"\n",
              "     width=\"24px\">\n",
              "    <g>\n",
              "        <path d=\"M19 3H5c-1.1 0-2 .9-2 2v14c0 1.1.9 2 2 2h14c1.1 0 2-.9 2-2V5c0-1.1-.9-2-2-2zM9 17H7v-7h2v7zm4 0h-2V7h2v10zm4 0h-2v-4h2v4z\"/>\n",
              "    </g>\n",
              "</svg>\n",
              "  </button>\n",
              "\n",
              "<style>\n",
              "  .colab-df-quickchart {\n",
              "      --bg-color: #E8F0FE;\n",
              "      --fill-color: #1967D2;\n",
              "      --hover-bg-color: #E2EBFA;\n",
              "      --hover-fill-color: #174EA6;\n",
              "      --disabled-fill-color: #AAA;\n",
              "      --disabled-bg-color: #DDD;\n",
              "  }\n",
              "\n",
              "  [theme=dark] .colab-df-quickchart {\n",
              "      --bg-color: #3B4455;\n",
              "      --fill-color: #D2E3FC;\n",
              "      --hover-bg-color: #434B5C;\n",
              "      --hover-fill-color: #FFFFFF;\n",
              "      --disabled-bg-color: #3B4455;\n",
              "      --disabled-fill-color: #666;\n",
              "  }\n",
              "\n",
              "  .colab-df-quickchart {\n",
              "    background-color: var(--bg-color);\n",
              "    border: none;\n",
              "    border-radius: 50%;\n",
              "    cursor: pointer;\n",
              "    display: none;\n",
              "    fill: var(--fill-color);\n",
              "    height: 32px;\n",
              "    padding: 0;\n",
              "    width: 32px;\n",
              "  }\n",
              "\n",
              "  .colab-df-quickchart:hover {\n",
              "    background-color: var(--hover-bg-color);\n",
              "    box-shadow: 0 1px 2px rgba(60, 64, 67, 0.3), 0 1px 3px 1px rgba(60, 64, 67, 0.15);\n",
              "    fill: var(--button-hover-fill-color);\n",
              "  }\n",
              "\n",
              "  .colab-df-quickchart-complete:disabled,\n",
              "  .colab-df-quickchart-complete:disabled:hover {\n",
              "    background-color: var(--disabled-bg-color);\n",
              "    fill: var(--disabled-fill-color);\n",
              "    box-shadow: none;\n",
              "  }\n",
              "\n",
              "  .colab-df-spinner {\n",
              "    border: 2px solid var(--fill-color);\n",
              "    border-color: transparent;\n",
              "    border-bottom-color: var(--fill-color);\n",
              "    animation:\n",
              "      spin 1s steps(1) infinite;\n",
              "  }\n",
              "\n",
              "  @keyframes spin {\n",
              "    0% {\n",
              "      border-color: transparent;\n",
              "      border-bottom-color: var(--fill-color);\n",
              "      border-left-color: var(--fill-color);\n",
              "    }\n",
              "    20% {\n",
              "      border-color: transparent;\n",
              "      border-left-color: var(--fill-color);\n",
              "      border-top-color: var(--fill-color);\n",
              "    }\n",
              "    30% {\n",
              "      border-color: transparent;\n",
              "      border-left-color: var(--fill-color);\n",
              "      border-top-color: var(--fill-color);\n",
              "      border-right-color: var(--fill-color);\n",
              "    }\n",
              "    40% {\n",
              "      border-color: transparent;\n",
              "      border-right-color: var(--fill-color);\n",
              "      border-top-color: var(--fill-color);\n",
              "    }\n",
              "    60% {\n",
              "      border-color: transparent;\n",
              "      border-right-color: var(--fill-color);\n",
              "    }\n",
              "    80% {\n",
              "      border-color: transparent;\n",
              "      border-right-color: var(--fill-color);\n",
              "      border-bottom-color: var(--fill-color);\n",
              "    }\n",
              "    90% {\n",
              "      border-color: transparent;\n",
              "      border-bottom-color: var(--fill-color);\n",
              "    }\n",
              "  }\n",
              "</style>\n",
              "\n",
              "  <script>\n",
              "    async function quickchart(key) {\n",
              "      const quickchartButtonEl =\n",
              "        document.querySelector('#' + key + ' button');\n",
              "      quickchartButtonEl.disabled = true;  // To prevent multiple clicks.\n",
              "      quickchartButtonEl.classList.add('colab-df-spinner');\n",
              "      try {\n",
              "        const charts = await google.colab.kernel.invokeFunction(\n",
              "            'suggestCharts', [key], {});\n",
              "      } catch (error) {\n",
              "        console.error('Error during call to suggestCharts:', error);\n",
              "      }\n",
              "      quickchartButtonEl.classList.remove('colab-df-spinner');\n",
              "      quickchartButtonEl.classList.add('colab-df-quickchart-complete');\n",
              "    }\n",
              "    (() => {\n",
              "      let quickchartButtonEl =\n",
              "        document.querySelector('#df-43cf12f2-1652-4462-ab21-0a0ac4ad9311 button');\n",
              "      quickchartButtonEl.style.display =\n",
              "        google.colab.kernel.accessAllowed ? 'block' : 'none';\n",
              "    })();\n",
              "  </script>\n",
              "</div>\n",
              "    </div>\n",
              "  </div>\n"
            ]
          },
          "metadata": {},
          "execution_count": 145
        }
      ]
    },
    {
      "cell_type": "markdown",
      "source": [
        "## scatter plot"
      ],
      "metadata": {
        "id": "ms3xNau14won"
      }
    },
    {
      "cell_type": "code",
      "source": [
        "df.plot.scatter(x=\"experience_level\", y=\"salary_in_usd\")"
      ],
      "metadata": {
        "colab": {
          "base_uri": "https://localhost:8080/",
          "height": 468
        },
        "id": "eJ2Ax1_H3xfF",
        "outputId": "b908bb03-a393-424f-ae10-e8c89bb9286b"
      },
      "execution_count": null,
      "outputs": [
        {
          "output_type": "execute_result",
          "data": {
            "text/plain": [
              "<Axes: xlabel='experience_level', ylabel='salary_in_usd'>"
            ]
          },
          "metadata": {},
          "execution_count": 146
        },
        {
          "output_type": "display_data",
          "data": {
            "text/plain": [
              "<Figure size 640x480 with 1 Axes>"
            ],
            "image/png": "[encoded data removed]"
          },
          "metadata": {}
        }
      ]
    },
    {
      "cell_type": "markdown",
      "source": [
        "## box plot"
      ],
      "metadata": {
        "id": "pyyQzNa-4zbx"
      }
    },
    {
      "cell_type": "code",
      "source": [
        "df.plot.box(by=\"experience_level\", column=\"salary_in_usd\")"
      ],
      "metadata": {
        "colab": {
          "base_uri": "https://localhost:8080/",
          "height": 489
        },
        "id": "F3eQ11_84BVW",
        "outputId": "09773918-9c62-45a0-f9ec-632bbeff04db"
      },
      "execution_count": null,
      "outputs": [
        {
          "output_type": "execute_result",
          "data": {
            "text/plain": [
              "salary_in_usd    Axes(0.125,0.11;0.775x0.77)\n",
              "dtype: object"
            ]
          },
          "metadata": {},
          "execution_count": 147
        },
        {
          "output_type": "display_data",
          "data": {
            "text/plain": [
              "<Figure size 640x480 with 1 Axes>"
            ],
            "image/png": "[encoded data removed]"
          },
          "metadata": {}
        }
      ]
    },
    {
      "cell_type": "markdown",
      "source": [
        "## histogram plot"
      ],
      "metadata": {
        "id": "F6ePEfVy-50R"
      }
    },
    {
      "cell_type": "code",
      "source": [
        "df.salary_in_usd.hist()"
      ],
      "metadata": {
        "colab": {
          "base_uri": "https://localhost:8080/",
          "height": 448
        },
        "id": "-_C-BWnd-8TL",
        "outputId": "16665160-8d4d-4a7a-98fd-2bbdc5c5cba6"
      },
      "execution_count": null,
      "outputs": [
        {
          "output_type": "execute_result",
          "data": {
            "text/plain": [
              "<Axes: >"
            ]
          },
          "metadata": {},
          "execution_count": 148
        },
        {
          "output_type": "display_data",
          "data": {
            "text/plain": [
              "<Figure size 640x480 with 1 Axes>"
            ],
            "image/png": "[encoded data removed]"
          },
          "metadata": {}
        }
      ]
    },
    {
      "cell_type": "code",
      "source": [
        "df.salary_in_usd.hist(bins=50)"
      ],
      "metadata": {
        "colab": {
          "base_uri": "https://localhost:8080/",
          "height": 448
        },
        "id": "n1mS8hbV-_tM",
        "outputId": "90e171b0-7f63-4864-bde1-ce2993465b7e"
      },
      "execution_count": null,
      "outputs": [
        {
          "output_type": "execute_result",
          "data": {
            "text/plain": [
              "<Axes: >"
            ]
          },
          "metadata": {},
          "execution_count": 149
        },
        {
          "output_type": "display_data",
          "data": {
            "text/plain": [
              "<Figure size 640x480 with 1 Axes>"
            ],
            "image/png": "[encoded data removed]"
          },
          "metadata": {}
        }
      ]
    },
    {
      "cell_type": "markdown",
      "source": [
        "## bar plot"
      ],
      "metadata": {
        "id": "tlkcC4Vj41AJ"
      }
    },
    {
      "cell_type": "code",
      "source": [
        "level_mean = df.groupby(\"experience_level\").salary_in_usd.mean()\n",
        "level_mean"
      ],
      "metadata": {
        "colab": {
          "base_uri": "https://localhost:8080/"
        },
        "id": "FstUQDD-41me",
        "outputId": "db5ddbea-5b74-4096-ca5a-b86a156f345f"
      },
      "execution_count": null,
      "outputs": [
        {
          "output_type": "execute_result",
          "data": {
            "text/plain": [
              "experience_level\n",
              "Director        189666.587755\n",
              "Expert          161740.380431\n",
              "Intermediate    114481.865459\n",
              "Junior           86152.589744\n",
              "Name: salary_in_usd, dtype: float64"
            ]
          },
          "metadata": {},
          "execution_count": 150
        }
      ]
    },
    {
      "cell_type": "code",
      "source": [
        "level_mean.plot.bar()"
      ],
      "metadata": {
        "colab": {
          "base_uri": "https://localhost:8080/",
          "height": 543
        },
        "id": "9Lw5nYT2474m",
        "outputId": "8ec5a9f4-1941-4ebd-9f98-b1ded1aebddb"
      },
      "execution_count": null,
      "outputs": [
        {
          "output_type": "execute_result",
          "data": {
            "text/plain": [
              "<Axes: xlabel='experience_level'>"
            ]
          },
          "metadata": {},
          "execution_count": 151
        },
        {
          "output_type": "display_data",
          "data": {
            "text/plain": [
              "<Figure size 640x480 with 1 Axes>"
            ],
            "image/png": "[encoded data removed]"
          },
          "metadata": {}
        }
      ]
    },
    {
      "cell_type": "code",
      "source": [
        "pivot = df.pivot_table(\n",
        "    values=\"salary_in_usd\",\n",
        "    index=\"experience_level\",\n",
        "    columns=\"work_year\",\n",
        "    aggfunc=\"mean\"\n",
        ")\n",
        "pivot"
      ],
      "metadata": {
        "colab": {
          "base_uri": "https://localhost:8080/",
          "height": 206
        },
        "id": "_ImdM2Kc93iO",
        "outputId": "1e8d2939-19e6-4aff-e26f-2fdfe91cf79a"
      },
      "execution_count": null,
      "outputs": [
        {
          "output_type": "execute_result",
          "data": {
            "text/plain": [
              "work_year                  2020           2021           2022           2023\n",
              "experience_level                                                            \n",
              "Director          179958.250000  186128.000000  188260.292683  190360.678947\n",
              "Expert            138648.894737  125989.746667  148059.962148  165865.267905\n",
              "Intermediate       91870.935484   86818.390805  102733.432961  121317.005607\n",
              "Junior             69840.666667   63463.065217   80393.295652   94446.465587"
            ],
            "text/html": [
              "\n",
              "  <div id=\"df-fed45e64-8bd6-4c66-95b8-d5651927386c\" class=\"colab-df-container\">\n",
              "    <div>\n",
              "<style scoped>\n",
              "    .dataframe tbody tr th:only-of-type {\n",
              "        vertical-align: middle;\n",
              "    }\n",
              "\n",
              "    .dataframe tbody tr th {\n",
              "        vertical-align: top;\n",
              "    }\n",
              "\n",
              "    .dataframe thead th {\n",
              "        text-align: right;\n",
              "    }\n",
              "</style>\n",
              "<table border=\"1\" class=\"dataframe\">\n",
              "  <thead>\n",
              "    <tr style=\"text-align: right;\">\n",
              "      <th>work_year</th>\n",
              "      <th>2020</th>\n",
              "      <th>2021</th>\n",
              "      <th>2022</th>\n",
              "      <th>2023</th>\n",
              "    </tr>\n",
              "    <tr>\n",
              "      <th>experience_level</th>\n",
              "      <th></th>\n",
              "      <th></th>\n",
              "      <th></th>\n",
              "      <th></th>\n",
              "    </tr>\n",
              "  </thead>\n",
              "  <tbody>\n",
              "    <tr>\n",
              "      <th>Director</th>\n",
              "      <td>179958.250000</td>\n",
              "      <td>186128.000000</td>\n",
              "      <td>188260.292683</td>\n",
              "      <td>190360.678947</td>\n",
              "    </tr>\n",
              "    <tr>\n",
              "      <th>Expert</th>\n",
              "      <td>138648.894737</td>\n",
              "      <td>125989.746667</td>\n",
              "      <td>148059.962148</td>\n",
              "      <td>165865.267905</td>\n",
              "    </tr>\n",
              "    <tr>\n",
              "      <th>Intermediate</th>\n",
              "      <td>91870.935484</td>\n",
              "      <td>86818.390805</td>\n",
              "      <td>102733.432961</td>\n",
              "      <td>121317.005607</td>\n",
              "    </tr>\n",
              "    <tr>\n",
              "      <th>Junior</th>\n",
              "      <td>69840.666667</td>\n",
              "      <td>63463.065217</td>\n",
              "      <td>80393.295652</td>\n",
              "      <td>94446.465587</td>\n",
              "    </tr>\n",
              "  </tbody>\n",
              "</table>\n",
              "</div>\n",
              "    <div class=\"colab-df-buttons\">\n",
              "\n",
              "  <div class=\"colab-df-container\">\n",
              "    <button class=\"colab-df-convert\" onclick=\"convertToInteractive('df-fed45e64-8bd6-4c66-95b8-d5651927386c')\"\n",
              "            title=\"Convert this dataframe to an interactive table.\"\n",
              "            style=\"display:none;\">\n",
              "\n",
              "  <svg xmlns=\"http://www.w3.org/2000/svg\" height=\"24px\" viewBox=\"0 -960 960 960\">\n",
              "    <path d=\"M120-120v-720h720v720H120Zm60-500h600v-160H180v160Zm220 220h160v-160H400v160Zm0 220h160v-160H400v160ZM180-400h160v-160H180v160Zm440 0h160v-160H620v160ZM180-180h160v-160H180v160Zm440 0h160v-160H620v160Z\"/>\n",
              "  </svg>\n",
              "    </button>\n",
              "\n",
              "  <style>\n",
              "    .colab-df-container {\n",
              "      display:flex;\n",
              "      gap: 12px;\n",
              "    }\n",
              "\n",
              "    .colab-df-convert {\n",
              "      background-color: #E8F0FE;\n",
              "      border: none;\n",
              "      border-radius: 50%;\n",
              "      cursor: pointer;\n",
              "      display: none;\n",
              "      fill: #1967D2;\n",
              "      height: 32px;\n",
              "      padding: 0 0 0 0;\n",
              "      width: 32px;\n",
              "    }\n",
              "\n",
              "    .colab-df-convert:hover {\n",
              "      background-color: #E2EBFA;\n",
              "      box-shadow: 0px 1px 2px rgba(60, 64, 67, 0.3), 0px 1px 3px 1px rgba(60, 64, 67, 0.15);\n",
              "      fill: #174EA6;\n",
              "    }\n",
              "\n",
              "    .colab-df-buttons div {\n",
              "      margin-bottom: 4px;\n",
              "    }\n",
              "\n",
              "    [theme=dark] .colab-df-convert {\n",
              "      background-color: #3B4455;\n",
              "      fill: #D2E3FC;\n",
              "    }\n",
              "\n",
              "    [theme=dark] .colab-df-convert:hover {\n",
              "      background-color: #434B5C;\n",
              "      box-shadow: 0px 1px 3px 1px rgba(0, 0, 0, 0.15);\n",
              "      filter: drop-shadow(0px 1px 2px rgba(0, 0, 0, 0.3));\n",
              "      fill: #FFFFFF;\n",
              "    }\n",
              "  </style>\n",
              "\n",
              "    <script>\n",
              "      const buttonEl =\n",
              "        document.querySelector('#df-fed45e64-8bd6-4c66-95b8-d5651927386c button.colab-df-convert');\n",
              "      buttonEl.style.display =\n",
              "        google.colab.kernel.accessAllowed ? 'block' : 'none';\n",
              "\n",
              "      async function convertToInteractive(key) {\n",
              "        const element = document.querySelector('#df-fed45e64-8bd6-4c66-95b8-d5651927386c');\n",
              "        const dataTable =\n",
              "          await google.colab.kernel.invokeFunction('convertToInteractive',\n",
              "                                                    [key], {});\n",
              "        if (!dataTable) return;\n",
              "\n",
              "        const docLinkHtml = 'Like what you see? Visit the ' +\n",
              "          '<a target=\"_blank\" href=https://colab.research.google.com/notebooks/data_table.ipynb>data table notebook</a>'\n",
              "          + ' to learn more about interactive tables.';\n",
              "        element.innerHTML = '';\n",
              "        dataTable['output_type'] = 'display_data';\n",
              "        await google.colab.output.renderOutput(dataTable, element);\n",
              "        const docLink = document.createElement('div');\n",
              "        docLink.innerHTML = docLinkHtml;\n",
              "        element.appendChild(docLink);\n",
              "      }\n",
              "    </script>\n",
              "  </div>\n",
              "\n",
              "\n",
              "<div id=\"df-0eeb44e3-35f4-44b4-b7cd-3c28e3ff6a57\">\n",
              "  <button class=\"colab-df-quickchart\" onclick=\"quickchart('df-0eeb44e3-35f4-44b4-b7cd-3c28e3ff6a57')\"\n",
              "            title=\"Suggest charts.\"\n",
              "            style=\"display:none;\">\n",
              "\n",
              "<svg xmlns=\"http://www.w3.org/2000/svg\" height=\"24px\"viewBox=\"0 0 24 24\"\n",
              "     width=\"24px\">\n",
              "    <g>\n",
              "        <path d=\"M19 3H5c-1.1 0-2 .9-2 2v14c0 1.1.9 2 2 2h14c1.1 0 2-.9 2-2V5c0-1.1-.9-2-2-2zM9 17H7v-7h2v7zm4 0h-2V7h2v10zm4 0h-2v-4h2v4z\"/>\n",
              "    </g>\n",
              "</svg>\n",
              "  </button>\n",
              "\n",
              "<style>\n",
              "  .colab-df-quickchart {\n",
              "      --bg-color: #E8F0FE;\n",
              "      --fill-color: #1967D2;\n",
              "      --hover-bg-color: #E2EBFA;\n",
              "      --hover-fill-color: #174EA6;\n",
              "      --disabled-fill-color: #AAA;\n",
              "      --disabled-bg-color: #DDD;\n",
              "  }\n",
              "\n",
              "  [theme=dark] .colab-df-quickchart {\n",
              "      --bg-color: #3B4455;\n",
              "      --fill-color: #D2E3FC;\n",
              "      --hover-bg-color: #434B5C;\n",
              "      --hover-fill-color: #FFFFFF;\n",
              "      --disabled-bg-color: #3B4455;\n",
              "      --disabled-fill-color: #666;\n",
              "  }\n",
              "\n",
              "  .colab-df-quickchart {\n",
              "    background-color: var(--bg-color);\n",
              "    border: none;\n",
              "    border-radius: 50%;\n",
              "    cursor: pointer;\n",
              "    display: none;\n",
              "    fill: var(--fill-color);\n",
              "    height: 32px;\n",
              "    padding: 0;\n",
              "    width: 32px;\n",
              "  }\n",
              "\n",
              "  .colab-df-quickchart:hover {\n",
              "    background-color: var(--hover-bg-color);\n",
              "    box-shadow: 0 1px 2px rgba(60, 64, 67, 0.3), 0 1px 3px 1px rgba(60, 64, 67, 0.15);\n",
              "    fill: var(--button-hover-fill-color);\n",
              "  }\n",
              "\n",
              "  .colab-df-quickchart-complete:disabled,\n",
              "  .colab-df-quickchart-complete:disabled:hover {\n",
              "    background-color: var(--disabled-bg-color);\n",
              "    fill: var(--disabled-fill-color);\n",
              "    box-shadow: none;\n",
              "  }\n",
              "\n",
              "  .colab-df-spinner {\n",
              "    border: 2px solid var(--fill-color);\n",
              "    border-color: transparent;\n",
              "    border-bottom-color: var(--fill-color);\n",
              "    animation:\n",
              "      spin 1s steps(1) infinite;\n",
              "  }\n",
              "\n",
              "  @keyframes spin {\n",
              "    0% {\n",
              "      border-color: transparent;\n",
              "      border-bottom-color: var(--fill-color);\n",
              "      border-left-color: var(--fill-color);\n",
              "    }\n",
              "    20% {\n",
              "      border-color: transparent;\n",
              "      border-left-color: var(--fill-color);\n",
              "      border-top-color: var(--fill-color);\n",
              "    }\n",
              "    30% {\n",
              "      border-color: transparent;\n",
              "      border-left-color: var(--fill-color);\n",
              "      border-top-color: var(--fill-color);\n",
              "      border-right-color: var(--fill-color);\n",
              "    }\n",
              "    40% {\n",
              "      border-color: transparent;\n",
              "      border-right-color: var(--fill-color);\n",
              "      border-top-color: var(--fill-color);\n",
              "    }\n",
              "    60% {\n",
              "      border-color: transparent;\n",
              "      border-right-color: var(--fill-color);\n",
              "    }\n",
              "    80% {\n",
              "      border-color: transparent;\n",
              "      border-right-color: var(--fill-color);\n",
              "      border-bottom-color: var(--fill-color);\n",
              "    }\n",
              "    90% {\n",
              "      border-color: transparent;\n",
              "      border-bottom-color: var(--fill-color);\n",
              "    }\n",
              "  }\n",
              "</style>\n",
              "\n",
              "  <script>\n",
              "    async function quickchart(key) {\n",
              "      const quickchartButtonEl =\n",
              "        document.querySelector('#' + key + ' button');\n",
              "      quickchartButtonEl.disabled = true;  // To prevent multiple clicks.\n",
              "      quickchartButtonEl.classList.add('colab-df-spinner');\n",
              "      try {\n",
              "        const charts = await google.colab.kernel.invokeFunction(\n",
              "            'suggestCharts', [key], {});\n",
              "      } catch (error) {\n",
              "        console.error('Error during call to suggestCharts:', error);\n",
              "      }\n",
              "      quickchartButtonEl.classList.remove('colab-df-spinner');\n",
              "      quickchartButtonEl.classList.add('colab-df-quickchart-complete');\n",
              "    }\n",
              "    (() => {\n",
              "      let quickchartButtonEl =\n",
              "        document.querySelector('#df-0eeb44e3-35f4-44b4-b7cd-3c28e3ff6a57 button');\n",
              "      quickchartButtonEl.style.display =\n",
              "        google.colab.kernel.accessAllowed ? 'block' : 'none';\n",
              "    })();\n",
              "  </script>\n",
              "</div>\n",
              "    </div>\n",
              "  </div>\n"
            ]
          },
          "metadata": {},
          "execution_count": 152
        }
      ]
    },
    {
      "cell_type": "code",
      "source": [
        "pivot.plot.barh()"
      ],
      "metadata": {
        "colab": {
          "base_uri": "https://localhost:8080/",
          "height": 448
        },
        "id": "NNzIJEB_5dIF",
        "outputId": "80f08310-d2ab-445a-efcf-97f4371bba1b"
      },
      "execution_count": null,
      "outputs": [
        {
          "output_type": "execute_result",
          "data": {
            "text/plain": [
              "<Axes: ylabel='experience_level'>"
            ]
          },
          "metadata": {},
          "execution_count": 153
        },
        {
          "output_type": "display_data",
          "data": {
            "text/plain": [
              "<Figure size 640x480 with 1 Axes>"
            ],
            "image/png": "[encoded data removed]"
          },
          "metadata": {}
        }
      ]
    },
    {
      "cell_type": "code",
      "source": [
        "pivot.plot.barh(stacked=True)"
      ],
      "metadata": {
        "colab": {
          "base_uri": "https://localhost:8080/",
          "height": 448
        },
        "id": "Mvt4x3uT-ZxO",
        "outputId": "d42e7e7e-1c0d-4f98-e6ce-0430e7ac342c"
      },
      "execution_count": null,
      "outputs": [
        {
          "output_type": "execute_result",
          "data": {
            "text/plain": [
              "<Axes: ylabel='experience_level'>"
            ]
          },
          "metadata": {},
          "execution_count": 154
        },
        {
          "output_type": "display_data",
          "data": {
            "text/plain": [
              "<Figure size 640x480 with 1 Axes>"
            ],
            "image/png": "[encoded data removed]"
          },
          "metadata": {}
        }
      ]
    },
    {
      "cell_type": "markdown",
      "source": [
        "## line plot"
      ],
      "metadata": {
        "id": "cOAAqtdX5oWM"
      }
    },
    {
      "cell_type": "code",
      "source": [
        "year_mean = df.groupby(\"work_year\").salary_in_usd.mean()\n",
        "year_mean"
      ],
      "metadata": {
        "colab": {
          "base_uri": "https://localhost:8080/"
        },
        "id": "DIXWsVhz5pOl",
        "outputId": "cc5fa63d-0283-4209-cd0f-c660d0ae93bb"
      },
      "execution_count": null,
      "outputs": [
        {
          "output_type": "execute_result",
          "data": {
            "text/plain": [
              "work_year\n",
              "2020    102250.866667\n",
              "2021     99922.073394\n",
              "2022    134508.234545\n",
              "2023    155808.402255\n",
              "Name: salary_in_usd, dtype: float64"
            ]
          },
          "metadata": {},
          "execution_count": 155
        }
      ]
    },
    {
      "cell_type": "code",
      "source": [
        "year_mean.plot.line()"
      ],
      "metadata": {
        "colab": {
          "base_uri": "https://localhost:8080/",
          "height": 468
        },
        "id": "IgQI9KaZ5wYN",
        "outputId": "0bef7345-7fe5-4a15-b2a2-ee2657e8fe00"
      },
      "execution_count": null,
      "outputs": [
        {
          "output_type": "execute_result",
          "data": {
            "text/plain": [
              "<Axes: xlabel='work_year'>"
            ]
          },
          "metadata": {},
          "execution_count": 156
        },
        {
          "output_type": "display_data",
          "data": {
            "text/plain": [
              "<Figure size 640x480 with 1 Axes>"
            ],
            "image/png": "[encoded data removed]"
          },
          "metadata": {}
        }
      ]
    },
    {
      "cell_type": "markdown",
      "source": [
        "## pie plot"
      ],
      "metadata": {
        "id": "zlbAaqXDATmp"
      }
    },
    {
      "cell_type": "code",
      "source": [
        "year_mean.plot.pie()"
      ],
      "metadata": {
        "colab": {
          "base_uri": "https://localhost:8080/",
          "height": 424
        },
        "id": "ZEDRFtMXAb3W",
        "outputId": "5e5d87cd-8eab-48ac-a071-44287ec944b0"
      },
      "execution_count": null,
      "outputs": [
        {
          "output_type": "execute_result",
          "data": {
            "text/plain": [
              "<Axes: ylabel='salary_in_usd'>"
            ]
          },
          "metadata": {},
          "execution_count": 157
        },
        {
          "output_type": "display_data",
          "data": {
            "text/plain": [
              "<Figure size 640x480 with 1 Axes>"
            ],
            "image/png": "[encoded data removed]"
          },
          "metadata": {}
        }
      ]
    },
    {
      "cell_type": "markdown",
      "source": [
        "## style"
      ],
      "metadata": {
        "id": "X_29z-ou5z9b"
      }
    },
    {
      "cell_type": "code",
      "source": [
        "pivot = df.pivot_table(\n",
        "    values=\"salary_in_usd\",\n",
        "    index=\"experience_level\",\n",
        "    columns=\"work_year\",\n",
        "    aggfunc=\"mean\"\n",
        ")\n",
        "pivot"
      ],
      "metadata": {
        "colab": {
          "base_uri": "https://localhost:8080/",
          "height": 206
        },
        "id": "E_-nb2SH51v2",
        "outputId": "296d8914-d2dd-444d-d582-1a42db72d7bd"
      },
      "execution_count": null,
      "outputs": [
        {
          "output_type": "execute_result",
          "data": {
            "text/plain": [
              "work_year                  2020           2021           2022           2023\n",
              "experience_level                                                            \n",
              "Director          179958.250000  186128.000000  188260.292683  190360.678947\n",
              "Expert            138648.894737  125989.746667  148059.962148  165865.267905\n",
              "Intermediate       91870.935484   86818.390805  102733.432961  121317.005607\n",
              "Junior             69840.666667   63463.065217   80393.295652   94446.465587"
            ],
            "text/html": [
              "\n",
              "  <div id=\"df-85a0c2e4-159d-4cbd-8900-51af01344292\" class=\"colab-df-container\">\n",
              "    <div>\n",
              "<style scoped>\n",
              "    .dataframe tbody tr th:only-of-type {\n",
              "        vertical-align: middle;\n",
              "    }\n",
              "\n",
              "    .dataframe tbody tr th {\n",
              "        vertical-align: top;\n",
              "    }\n",
              "\n",
              "    .dataframe thead th {\n",
              "        text-align: right;\n",
              "    }\n",
              "</style>\n",
              "<table border=\"1\" class=\"dataframe\">\n",
              "  <thead>\n",
              "    <tr style=\"text-align: right;\">\n",
              "      <th>work_year</th>\n",
              "      <th>2020</th>\n",
              "      <th>2021</th>\n",
              "      <th>2022</th>\n",
              "      <th>2023</th>\n",
              "    </tr>\n",
              "    <tr>\n",
              "      <th>experience_level</th>\n",
              "      <th></th>\n",
              "      <th></th>\n",
              "      <th></th>\n",
              "      <th></th>\n",
              "    </tr>\n",
              "  </thead>\n",
              "  <tbody>\n",
              "    <tr>\n",
              "      <th>Director</th>\n",
              "      <td>179958.250000</td>\n",
              "      <td>186128.000000</td>\n",
              "      <td>188260.292683</td>\n",
              "      <td>190360.678947</td>\n",
              "    </tr>\n",
              "    <tr>\n",
              "      <th>Expert</th>\n",
              "      <td>138648.894737</td>\n",
              "      <td>125989.746667</td>\n",
              "      <td>148059.962148</td>\n",
              "      <td>165865.267905</td>\n",
              "    </tr>\n",
              "    <tr>\n",
              "      <th>Intermediate</th>\n",
              "      <td>91870.935484</td>\n",
              "      <td>86818.390805</td>\n",
              "      <td>102733.432961</td>\n",
              "      <td>121317.005607</td>\n",
              "    </tr>\n",
              "    <tr>\n",
              "      <th>Junior</th>\n",
              "      <td>69840.666667</td>\n",
              "      <td>63463.065217</td>\n",
              "      <td>80393.295652</td>\n",
              "      <td>94446.465587</td>\n",
              "    </tr>\n",
              "  </tbody>\n",
              "</table>\n",
              "</div>\n",
              "    <div class=\"colab-df-buttons\">\n",
              "\n",
              "  <div class=\"colab-df-container\">\n",
              "    <button class=\"colab-df-convert\" onclick=\"convertToInteractive('df-85a0c2e4-159d-4cbd-8900-51af01344292')\"\n",
              "            title=\"Convert this dataframe to an interactive table.\"\n",
              "            style=\"display:none;\">\n",
              "\n",
              "  <svg xmlns=\"http://www.w3.org/2000/svg\" height=\"24px\" viewBox=\"0 -960 960 960\">\n",
              "    <path d=\"M120-120v-720h720v720H120Zm60-500h600v-160H180v160Zm220 220h160v-160H400v160Zm0 220h160v-160H400v160ZM180-400h160v-160H180v160Zm440 0h160v-160H620v160ZM180-180h160v-160H180v160Zm440 0h160v-160H620v160Z\"/>\n",
              "  </svg>\n",
              "    </button>\n",
              "\n",
              "  <style>\n",
              "    .colab-df-container {\n",
              "      display:flex;\n",
              "      gap: 12px;\n",
              "    }\n",
              "\n",
              "    .colab-df-convert {\n",
              "      background-color: #E8F0FE;\n",
              "      border: none;\n",
              "      border-radius: 50%;\n",
              "      cursor: pointer;\n",
              "      display: none;\n",
              "      fill: #1967D2;\n",
              "      height: 32px;\n",
              "      padding: 0 0 0 0;\n",
              "      width: 32px;\n",
              "    }\n",
              "\n",
              "    .colab-df-convert:hover {\n",
              "      background-color: #E2EBFA;\n",
              "      box-shadow: 0px 1px 2px rgba(60, 64, 67, 0.3), 0px 1px 3px 1px rgba(60, 64, 67, 0.15);\n",
              "      fill: #174EA6;\n",
              "    }\n",
              "\n",
              "    .colab-df-buttons div {\n",
              "      margin-bottom: 4px;\n",
              "    }\n",
              "\n",
              "    [theme=dark] .colab-df-convert {\n",
              "      background-color: #3B4455;\n",
              "      fill: #D2E3FC;\n",
              "    }\n",
              "\n",
              "    [theme=dark] .colab-df-convert:hover {\n",
              "      background-color: #434B5C;\n",
              "      box-shadow: 0px 1px 3px 1px rgba(0, 0, 0, 0.15);\n",
              "      filter: drop-shadow(0px 1px 2px rgba(0, 0, 0, 0.3));\n",
              "      fill: #FFFFFF;\n",
              "    }\n",
              "  </style>\n",
              "\n",
              "    <script>\n",
              "      const buttonEl =\n",
              "        document.querySelector('#df-85a0c2e4-159d-4cbd-8900-51af01344292 button.colab-df-convert');\n",
              "      buttonEl.style.display =\n",
              "        google.colab.kernel.accessAllowed ? 'block' : 'none';\n",
              "\n",
              "      async function convertToInteractive(key) {\n",
              "        const element = document.querySelector('#df-85a0c2e4-159d-4cbd-8900-51af01344292');\n",
              "        const dataTable =\n",
              "          await google.colab.kernel.invokeFunction('convertToInteractive',\n",
              "                                                    [key], {});\n",
              "        if (!dataTable) return;\n",
              "\n",
              "        const docLinkHtml = 'Like what you see? Visit the ' +\n",
              "          '<a target=\"_blank\" href=https://colab.research.google.com/notebooks/data_table.ipynb>data table notebook</a>'\n",
              "          + ' to learn more about interactive tables.';\n",
              "        element.innerHTML = '';\n",
              "        dataTable['output_type'] = 'display_data';\n",
              "        await google.colab.output.renderOutput(dataTable, element);\n",
              "        const docLink = document.createElement('div');\n",
              "        docLink.innerHTML = docLinkHtml;\n",
              "        element.appendChild(docLink);\n",
              "      }\n",
              "    </script>\n",
              "  </div>\n",
              "\n",
              "\n",
              "<div id=\"df-34db67f5-9958-4083-be6c-f2751f1ba3e9\">\n",
              "  <button class=\"colab-df-quickchart\" onclick=\"quickchart('df-34db67f5-9958-4083-be6c-f2751f1ba3e9')\"\n",
              "            title=\"Suggest charts.\"\n",
              "            style=\"display:none;\">\n",
              "\n",
              "<svg xmlns=\"http://www.w3.org/2000/svg\" height=\"24px\"viewBox=\"0 0 24 24\"\n",
              "     width=\"24px\">\n",
              "    <g>\n",
              "        <path d=\"M19 3H5c-1.1 0-2 .9-2 2v14c0 1.1.9 2 2 2h14c1.1 0 2-.9 2-2V5c0-1.1-.9-2-2-2zM9 17H7v-7h2v7zm4 0h-2V7h2v10zm4 0h-2v-4h2v4z\"/>\n",
              "    </g>\n",
              "</svg>\n",
              "  </button>\n",
              "\n",
              "<style>\n",
              "  .colab-df-quickchart {\n",
              "      --bg-color: #E8F0FE;\n",
              "      --fill-color: #1967D2;\n",
              "      --hover-bg-color: #E2EBFA;\n",
              "      --hover-fill-color: #174EA6;\n",
              "      --disabled-fill-color: #AAA;\n",
              "      --disabled-bg-color: #DDD;\n",
              "  }\n",
              "\n",
              "  [theme=dark] .colab-df-quickchart {\n",
              "      --bg-color: #3B4455;\n",
              "      --fill-color: #D2E3FC;\n",
              "      --hover-bg-color: #434B5C;\n",
              "      --hover-fill-color: #FFFFFF;\n",
              "      --disabled-bg-color: #3B4455;\n",
              "      --disabled-fill-color: #666;\n",
              "  }\n",
              "\n",
              "  .colab-df-quickchart {\n",
              "    background-color: var(--bg-color);\n",
              "    border: none;\n",
              "    border-radius: 50%;\n",
              "    cursor: pointer;\n",
              "    display: none;\n",
              "    fill: var(--fill-color);\n",
              "    height: 32px;\n",
              "    padding: 0;\n",
              "    width: 32px;\n",
              "  }\n",
              "\n",
              "  .colab-df-quickchart:hover {\n",
              "    background-color: var(--hover-bg-color);\n",
              "    box-shadow: 0 1px 2px rgba(60, 64, 67, 0.3), 0 1px 3px 1px rgba(60, 64, 67, 0.15);\n",
              "    fill: var(--button-hover-fill-color);\n",
              "  }\n",
              "\n",
              "  .colab-df-quickchart-complete:disabled,\n",
              "  .colab-df-quickchart-complete:disabled:hover {\n",
              "    background-color: var(--disabled-bg-color);\n",
              "    fill: var(--disabled-fill-color);\n",
              "    box-shadow: none;\n",
              "  }\n",
              "\n",
              "  .colab-df-spinner {\n",
              "    border: 2px solid var(--fill-color);\n",
              "    border-color: transparent;\n",
              "    border-bottom-color: var(--fill-color);\n",
              "    animation:\n",
              "      spin 1s steps(1) infinite;\n",
              "  }\n",
              "\n",
              "  @keyframes spin {\n",
              "    0% {\n",
              "      border-color: transparent;\n",
              "      border-bottom-color: var(--fill-color);\n",
              "      border-left-color: var(--fill-color);\n",
              "    }\n",
              "    20% {\n",
              "      border-color: transparent;\n",
              "      border-left-color: var(--fill-color);\n",
              "      border-top-color: var(--fill-color);\n",
              "    }\n",
              "    30% {\n",
              "      border-color: transparent;\n",
              "      border-left-color: var(--fill-color);\n",
              "      border-top-color: var(--fill-color);\n",
              "      border-right-color: var(--fill-color);\n",
              "    }\n",
              "    40% {\n",
              "      border-color: transparent;\n",
              "      border-right-color: var(--fill-color);\n",
              "      border-top-color: var(--fill-color);\n",
              "    }\n",
              "    60% {\n",
              "      border-color: transparent;\n",
              "      border-right-color: var(--fill-color);\n",
              "    }\n",
              "    80% {\n",
              "      border-color: transparent;\n",
              "      border-right-color: var(--fill-color);\n",
              "      border-bottom-color: var(--fill-color);\n",
              "    }\n",
              "    90% {\n",
              "      border-color: transparent;\n",
              "      border-bottom-color: var(--fill-color);\n",
              "    }\n",
              "  }\n",
              "</style>\n",
              "\n",
              "  <script>\n",
              "    async function quickchart(key) {\n",
              "      const quickchartButtonEl =\n",
              "        document.querySelector('#' + key + ' button');\n",
              "      quickchartButtonEl.disabled = true;  // To prevent multiple clicks.\n",
              "      quickchartButtonEl.classList.add('colab-df-spinner');\n",
              "      try {\n",
              "        const charts = await google.colab.kernel.invokeFunction(\n",
              "            'suggestCharts', [key], {});\n",
              "      } catch (error) {\n",
              "        console.error('Error during call to suggestCharts:', error);\n",
              "      }\n",
              "      quickchartButtonEl.classList.remove('colab-df-spinner');\n",
              "      quickchartButtonEl.classList.add('colab-df-quickchart-complete');\n",
              "    }\n",
              "    (() => {\n",
              "      let quickchartButtonEl =\n",
              "        document.querySelector('#df-34db67f5-9958-4083-be6c-f2751f1ba3e9 button');\n",
              "      quickchartButtonEl.style.display =\n",
              "        google.colab.kernel.accessAllowed ? 'block' : 'none';\n",
              "    })();\n",
              "  </script>\n",
              "</div>\n",
              "    </div>\n",
              "  </div>\n"
            ]
          },
          "metadata": {},
          "execution_count": 158
        }
      ]
    },
    {
      "cell_type": "markdown",
      "source": [
        "### style.bar"
      ],
      "metadata": {
        "id": "ufK2iFmg8NoW"
      }
    },
    {
      "cell_type": "code",
      "source": [
        "pivot.style.bar()"
      ],
      "metadata": {
        "colab": {
          "base_uri": "https://localhost:8080/",
          "height": 206
        },
        "id": "WxfNIfII6rZ2",
        "outputId": "ece0f3f2-d5ef-44bf-da1d-c792b96aaf24"
      },
      "execution_count": null,
      "outputs": [
        {
          "output_type": "execute_result",
          "data": {
            "text/plain": [
              "<pandas.io.formats.style.Styler at 0x7e1cf55a98a0>"
            ],
            "text/html": [
              "<style type=\"text/css\">\n",
              "#T_a89c8_row0_col0, #T_a89c8_row0_col1, #T_a89c8_row0_col2, #T_a89c8_row0_col3 {\n",
              "  width: 10em;\n",
              "  background: linear-gradient(90deg, #d65f5f 100.0%, transparent 100.0%);\n",
              "}\n",
              "#T_a89c8_row1_col0 {\n",
              "  width: 10em;\n",
              "  background: linear-gradient(90deg, #d65f5f 77.0%, transparent 77.0%);\n",
              "}\n",
              "#T_a89c8_row1_col1 {\n",
              "  width: 10em;\n",
              "  background: linear-gradient(90deg, #d65f5f 67.7%, transparent 67.7%);\n",
              "}\n",
              "#T_a89c8_row1_col2 {\n",
              "  width: 10em;\n",
              "  background: linear-gradient(90deg, #d65f5f 78.6%, transparent 78.6%);\n",
              "}\n",
              "#T_a89c8_row1_col3 {\n",
              "  width: 10em;\n",
              "  background: linear-gradient(90deg, #d65f5f 87.1%, transparent 87.1%);\n",
              "}\n",
              "#T_a89c8_row2_col0 {\n",
              "  width: 10em;\n",
              "  background: linear-gradient(90deg, #d65f5f 51.1%, transparent 51.1%);\n",
              "}\n",
              "#T_a89c8_row2_col1 {\n",
              "  width: 10em;\n",
              "  background: linear-gradient(90deg, #d65f5f 46.6%, transparent 46.6%);\n",
              "}\n",
              "#T_a89c8_row2_col2 {\n",
              "  width: 10em;\n",
              "  background: linear-gradient(90deg, #d65f5f 54.6%, transparent 54.6%);\n",
              "}\n",
              "#T_a89c8_row2_col3 {\n",
              "  width: 10em;\n",
              "  background: linear-gradient(90deg, #d65f5f 63.7%, transparent 63.7%);\n",
              "}\n",
              "#T_a89c8_row3_col0 {\n",
              "  width: 10em;\n",
              "  background: linear-gradient(90deg, #d65f5f 38.8%, transparent 38.8%);\n",
              "}\n",
              "#T_a89c8_row3_col1 {\n",
              "  width: 10em;\n",
              "  background: linear-gradient(90deg, #d65f5f 34.1%, transparent 34.1%);\n",
              "}\n",
              "#T_a89c8_row3_col2 {\n",
              "  width: 10em;\n",
              "  background: linear-gradient(90deg, #d65f5f 42.7%, transparent 42.7%);\n",
              "}\n",
              "#T_a89c8_row3_col3 {\n",
              "  width: 10em;\n",
              "  background: linear-gradient(90deg, #d65f5f 49.6%, transparent 49.6%);\n",
              "}\n",
              "</style>\n",
              "<table id=\"T_a89c8\" class=\"dataframe\">\n",
              "  <thead>\n",
              "    <tr>\n",
              "      <th class=\"index_name level0\" >work_year</th>\n",
              "      <th id=\"T_a89c8_level0_col0\" class=\"col_heading level0 col0\" >2020</th>\n",
              "      <th id=\"T_a89c8_level0_col1\" class=\"col_heading level0 col1\" >2021</th>\n",
              "      <th id=\"T_a89c8_level0_col2\" class=\"col_heading level0 col2\" >2022</th>\n",
              "      <th id=\"T_a89c8_level0_col3\" class=\"col_heading level0 col3\" >2023</th>\n",
              "    </tr>\n",
              "    <tr>\n",
              "      <th class=\"index_name level0\" >experience_level</th>\n",
              "      <th class=\"blank col0\" >&nbsp;</th>\n",
              "      <th class=\"blank col1\" >&nbsp;</th>\n",
              "      <th class=\"blank col2\" >&nbsp;</th>\n",
              "      <th class=\"blank col3\" >&nbsp;</th>\n",
              "    </tr>\n",
              "  </thead>\n",
              "  <tbody>\n",
              "    <tr>\n",
              "      <th id=\"T_a89c8_level0_row0\" class=\"row_heading level0 row0\" >Director</th>\n",
              "      <td id=\"T_a89c8_row0_col0\" class=\"data row0 col0\" >179958.250000</td>\n",
              "      <td id=\"T_a89c8_row0_col1\" class=\"data row0 col1\" >186128.000000</td>\n",
              "      <td id=\"T_a89c8_row0_col2\" class=\"data row0 col2\" >188260.292683</td>\n",
              "      <td id=\"T_a89c8_row0_col3\" class=\"data row0 col3\" >190360.678947</td>\n",
              "    </tr>\n",
              "    <tr>\n",
              "      <th id=\"T_a89c8_level0_row1\" class=\"row_heading level0 row1\" >Expert</th>\n",
              "      <td id=\"T_a89c8_row1_col0\" class=\"data row1 col0\" >138648.894737</td>\n",
              "      <td id=\"T_a89c8_row1_col1\" class=\"data row1 col1\" >125989.746667</td>\n",
              "      <td id=\"T_a89c8_row1_col2\" class=\"data row1 col2\" >148059.962148</td>\n",
              "      <td id=\"T_a89c8_row1_col3\" class=\"data row1 col3\" >165865.267905</td>\n",
              "    </tr>\n",
              "    <tr>\n",
              "      <th id=\"T_a89c8_level0_row2\" class=\"row_heading level0 row2\" >Intermediate</th>\n",
              "      <td id=\"T_a89c8_row2_col0\" class=\"data row2 col0\" >91870.935484</td>\n",
              "      <td id=\"T_a89c8_row2_col1\" class=\"data row2 col1\" >86818.390805</td>\n",
              "      <td id=\"T_a89c8_row2_col2\" class=\"data row2 col2\" >102733.432961</td>\n",
              "      <td id=\"T_a89c8_row2_col3\" class=\"data row2 col3\" >121317.005607</td>\n",
              "    </tr>\n",
              "    <tr>\n",
              "      <th id=\"T_a89c8_level0_row3\" class=\"row_heading level0 row3\" >Junior</th>\n",
              "      <td id=\"T_a89c8_row3_col0\" class=\"data row3 col0\" >69840.666667</td>\n",
              "      <td id=\"T_a89c8_row3_col1\" class=\"data row3 col1\" >63463.065217</td>\n",
              "      <td id=\"T_a89c8_row3_col2\" class=\"data row3 col2\" >80393.295652</td>\n",
              "      <td id=\"T_a89c8_row3_col3\" class=\"data row3 col3\" >94446.465587</td>\n",
              "    </tr>\n",
              "  </tbody>\n",
              "</table>\n"
            ]
          },
          "metadata": {},
          "execution_count": 159
        }
      ]
    },
    {
      "cell_type": "code",
      "source": [
        "pivot.style.bar(subset=[2022, 2023], cmap=\"Blues\", vmin=50000, vmax=250000, props=\"width: 500px;\")"
      ],
      "metadata": {
        "colab": {
          "base_uri": "https://localhost:8080/",
          "height": 206
        },
        "id": "P2Qvul4x9Qs6",
        "outputId": "d9d3f393-9dbb-49af-8e13-7b7ff4826029"
      },
      "execution_count": null,
      "outputs": [
        {
          "output_type": "execute_result",
          "data": {
            "text/plain": [
              "<pandas.io.formats.style.Styler at 0x7e1cf532c250>"
            ],
            "text/html": [
              "<style type=\"text/css\">\n",
              "#T_86a96_row0_col2 {\n",
              "  width: 500px;\n",
              "  background: linear-gradient(90deg, #3181bd 69.1%, transparent 69.1%);\n",
              "}\n",
              "#T_86a96_row0_col3 {\n",
              "  width: 500px;\n",
              "  background: linear-gradient(90deg, #2e7ebc 70.2%, transparent 70.2%);\n",
              "}\n",
              "#T_86a96_row1_col2 {\n",
              "  width: 500px;\n",
              "  background: linear-gradient(90deg, #6fb0d7 49.0%, transparent 49.0%);\n",
              "}\n",
              "#T_86a96_row1_col3 {\n",
              "  width: 500px;\n",
              "  background: linear-gradient(90deg, #519ccc 57.9%, transparent 57.9%);\n",
              "}\n",
              "#T_86a96_row2_col2 {\n",
              "  width: 500px;\n",
              "  background: linear-gradient(90deg, #c2d9ee 26.4%, transparent 26.4%);\n",
              "}\n",
              "#T_86a96_row2_col3 {\n",
              "  width: 500px;\n",
              "  background: linear-gradient(90deg, #a4cce3 35.7%, transparent 35.7%);\n",
              "}\n",
              "#T_86a96_row3_col2 {\n",
              "  width: 500px;\n",
              "  background: linear-gradient(90deg, #d9e8f5 15.2%, transparent 15.2%);\n",
              "}\n",
              "#T_86a96_row3_col3 {\n",
              "  width: 500px;\n",
              "  background: linear-gradient(90deg, #ccdff1 22.2%, transparent 22.2%);\n",
              "}\n",
              "</style>\n",
              "<table id=\"T_86a96\" class=\"dataframe\">\n",
              "  <thead>\n",
              "    <tr>\n",
              "      <th class=\"index_name level0\" >work_year</th>\n",
              "      <th id=\"T_86a96_level0_col0\" class=\"col_heading level0 col0\" >2020</th>\n",
              "      <th id=\"T_86a96_level0_col1\" class=\"col_heading level0 col1\" >2021</th>\n",
              "      <th id=\"T_86a96_level0_col2\" class=\"col_heading level0 col2\" >2022</th>\n",
              "      <th id=\"T_86a96_level0_col3\" class=\"col_heading level0 col3\" >2023</th>\n",
              "    </tr>\n",
              "    <tr>\n",
              "      <th class=\"index_name level0\" >experience_level</th>\n",
              "      <th class=\"blank col0\" >&nbsp;</th>\n",
              "      <th class=\"blank col1\" >&nbsp;</th>\n",
              "      <th class=\"blank col2\" >&nbsp;</th>\n",
              "      <th class=\"blank col3\" >&nbsp;</th>\n",
              "    </tr>\n",
              "  </thead>\n",
              "  <tbody>\n",
              "    <tr>\n",
              "      <th id=\"T_86a96_level0_row0\" class=\"row_heading level0 row0\" >Director</th>\n",
              "      <td id=\"T_86a96_row0_col0\" class=\"data row0 col0\" >179958.250000</td>\n",
              "      <td id=\"T_86a96_row0_col1\" class=\"data row0 col1\" >186128.000000</td>\n",
              "      <td id=\"T_86a96_row0_col2\" class=\"data row0 col2\" >188260.292683</td>\n",
              "      <td id=\"T_86a96_row0_col3\" class=\"data row0 col3\" >190360.678947</td>\n",
              "    </tr>\n",
              "    <tr>\n",
              "      <th id=\"T_86a96_level0_row1\" class=\"row_heading level0 row1\" >Expert</th>\n",
              "      <td id=\"T_86a96_row1_col0\" class=\"data row1 col0\" >138648.894737</td>\n",
              "      <td id=\"T_86a96_row1_col1\" class=\"data row1 col1\" >125989.746667</td>\n",
              "      <td id=\"T_86a96_row1_col2\" class=\"data row1 col2\" >148059.962148</td>\n",
              "      <td id=\"T_86a96_row1_col3\" class=\"data row1 col3\" >165865.267905</td>\n",
              "    </tr>\n",
              "    <tr>\n",
              "      <th id=\"T_86a96_level0_row2\" class=\"row_heading level0 row2\" >Intermediate</th>\n",
              "      <td id=\"T_86a96_row2_col0\" class=\"data row2 col0\" >91870.935484</td>\n",
              "      <td id=\"T_86a96_row2_col1\" class=\"data row2 col1\" >86818.390805</td>\n",
              "      <td id=\"T_86a96_row2_col2\" class=\"data row2 col2\" >102733.432961</td>\n",
              "      <td id=\"T_86a96_row2_col3\" class=\"data row2 col3\" >121317.005607</td>\n",
              "    </tr>\n",
              "    <tr>\n",
              "      <th id=\"T_86a96_level0_row3\" class=\"row_heading level0 row3\" >Junior</th>\n",
              "      <td id=\"T_86a96_row3_col0\" class=\"data row3 col0\" >69840.666667</td>\n",
              "      <td id=\"T_86a96_row3_col1\" class=\"data row3 col1\" >63463.065217</td>\n",
              "      <td id=\"T_86a96_row3_col2\" class=\"data row3 col2\" >80393.295652</td>\n",
              "      <td id=\"T_86a96_row3_col3\" class=\"data row3 col3\" >94446.465587</td>\n",
              "    </tr>\n",
              "  </tbody>\n",
              "</table>\n"
            ]
          },
          "metadata": {},
          "execution_count": 160
        }
      ]
    },
    {
      "cell_type": "markdown",
      "source": [
        "### style.format"
      ],
      "metadata": {
        "id": "oxJm_y8M8TfA"
      }
    },
    {
      "cell_type": "code",
      "source": [
        "pivot.style.format(formatter=\"{:.1f}\").bar()"
      ],
      "metadata": {
        "colab": {
          "base_uri": "https://localhost:8080/",
          "height": 206
        },
        "id": "4aonGi17612e",
        "outputId": "da709163-a99c-4be4-85d9-4d53b6554726"
      },
      "execution_count": null,
      "outputs": [
        {
          "output_type": "execute_result",
          "data": {
            "text/plain": [
              "<pandas.io.formats.style.Styler at 0x7e1cf532d660>"
            ],
            "text/html": [
              "<style type=\"text/css\">\n",
              "#T_66655_row0_col0, #T_66655_row0_col1, #T_66655_row0_col2, #T_66655_row0_col3 {\n",
              "  width: 10em;\n",
              "  background: linear-gradient(90deg, #d65f5f 100.0%, transparent 100.0%);\n",
              "}\n",
              "#T_66655_row1_col0 {\n",
              "  width: 10em;\n",
              "  background: linear-gradient(90deg, #d65f5f 77.0%, transparent 77.0%);\n",
              "}\n",
              "#T_66655_row1_col1 {\n",
              "  width: 10em;\n",
              "  background: linear-gradient(90deg, #d65f5f 67.7%, transparent 67.7%);\n",
              "}\n",
              "#T_66655_row1_col2 {\n",
              "  width: 10em;\n",
              "  background: linear-gradient(90deg, #d65f5f 78.6%, transparent 78.6%);\n",
              "}\n",
              "#T_66655_row1_col3 {\n",
              "  width: 10em;\n",
              "  background: linear-gradient(90deg, #d65f5f 87.1%, transparent 87.1%);\n",
              "}\n",
              "#T_66655_row2_col0 {\n",
              "  width: 10em;\n",
              "  background: linear-gradient(90deg, #d65f5f 51.1%, transparent 51.1%);\n",
              "}\n",
              "#T_66655_row2_col1 {\n",
              "  width: 10em;\n",
              "  background: linear-gradient(90deg, #d65f5f 46.6%, transparent 46.6%);\n",
              "}\n",
              "#T_66655_row2_col2 {\n",
              "  width: 10em;\n",
              "  background: linear-gradient(90deg, #d65f5f 54.6%, transparent 54.6%);\n",
              "}\n",
              "#T_66655_row2_col3 {\n",
              "  width: 10em;\n",
              "  background: linear-gradient(90deg, #d65f5f 63.7%, transparent 63.7%);\n",
              "}\n",
              "#T_66655_row3_col0 {\n",
              "  width: 10em;\n",
              "  background: linear-gradient(90deg, #d65f5f 38.8%, transparent 38.8%);\n",
              "}\n",
              "#T_66655_row3_col1 {\n",
              "  width: 10em;\n",
              "  background: linear-gradient(90deg, #d65f5f 34.1%, transparent 34.1%);\n",
              "}\n",
              "#T_66655_row3_col2 {\n",
              "  width: 10em;\n",
              "  background: linear-gradient(90deg, #d65f5f 42.7%, transparent 42.7%);\n",
              "}\n",
              "#T_66655_row3_col3 {\n",
              "  width: 10em;\n",
              "  background: linear-gradient(90deg, #d65f5f 49.6%, transparent 49.6%);\n",
              "}\n",
              "</style>\n",
              "<table id=\"T_66655\" class=\"dataframe\">\n",
              "  <thead>\n",
              "    <tr>\n",
              "      <th class=\"index_name level0\" >work_year</th>\n",
              "      <th id=\"T_66655_level0_col0\" class=\"col_heading level0 col0\" >2020</th>\n",
              "      <th id=\"T_66655_level0_col1\" class=\"col_heading level0 col1\" >2021</th>\n",
              "      <th id=\"T_66655_level0_col2\" class=\"col_heading level0 col2\" >2022</th>\n",
              "      <th id=\"T_66655_level0_col3\" class=\"col_heading level0 col3\" >2023</th>\n",
              "    </tr>\n",
              "    <tr>\n",
              "      <th class=\"index_name level0\" >experience_level</th>\n",
              "      <th class=\"blank col0\" >&nbsp;</th>\n",
              "      <th class=\"blank col1\" >&nbsp;</th>\n",
              "      <th class=\"blank col2\" >&nbsp;</th>\n",
              "      <th class=\"blank col3\" >&nbsp;</th>\n",
              "    </tr>\n",
              "  </thead>\n",
              "  <tbody>\n",
              "    <tr>\n",
              "      <th id=\"T_66655_level0_row0\" class=\"row_heading level0 row0\" >Director</th>\n",
              "      <td id=\"T_66655_row0_col0\" class=\"data row0 col0\" >179958.2</td>\n",
              "      <td id=\"T_66655_row0_col1\" class=\"data row0 col1\" >186128.0</td>\n",
              "      <td id=\"T_66655_row0_col2\" class=\"data row0 col2\" >188260.3</td>\n",
              "      <td id=\"T_66655_row0_col3\" class=\"data row0 col3\" >190360.7</td>\n",
              "    </tr>\n",
              "    <tr>\n",
              "      <th id=\"T_66655_level0_row1\" class=\"row_heading level0 row1\" >Expert</th>\n",
              "      <td id=\"T_66655_row1_col0\" class=\"data row1 col0\" >138648.9</td>\n",
              "      <td id=\"T_66655_row1_col1\" class=\"data row1 col1\" >125989.7</td>\n",
              "      <td id=\"T_66655_row1_col2\" class=\"data row1 col2\" >148060.0</td>\n",
              "      <td id=\"T_66655_row1_col3\" class=\"data row1 col3\" >165865.3</td>\n",
              "    </tr>\n",
              "    <tr>\n",
              "      <th id=\"T_66655_level0_row2\" class=\"row_heading level0 row2\" >Intermediate</th>\n",
              "      <td id=\"T_66655_row2_col0\" class=\"data row2 col0\" >91870.9</td>\n",
              "      <td id=\"T_66655_row2_col1\" class=\"data row2 col1\" >86818.4</td>\n",
              "      <td id=\"T_66655_row2_col2\" class=\"data row2 col2\" >102733.4</td>\n",
              "      <td id=\"T_66655_row2_col3\" class=\"data row2 col3\" >121317.0</td>\n",
              "    </tr>\n",
              "    <tr>\n",
              "      <th id=\"T_66655_level0_row3\" class=\"row_heading level0 row3\" >Junior</th>\n",
              "      <td id=\"T_66655_row3_col0\" class=\"data row3 col0\" >69840.7</td>\n",
              "      <td id=\"T_66655_row3_col1\" class=\"data row3 col1\" >63463.1</td>\n",
              "      <td id=\"T_66655_row3_col2\" class=\"data row3 col2\" >80393.3</td>\n",
              "      <td id=\"T_66655_row3_col3\" class=\"data row3 col3\" >94446.5</td>\n",
              "    </tr>\n",
              "  </tbody>\n",
              "</table>\n"
            ]
          },
          "metadata": {},
          "execution_count": 161
        }
      ]
    },
    {
      "cell_type": "markdown",
      "source": [
        "### style.background_gradient"
      ],
      "metadata": {
        "id": "KpNy8Hpe8V2C"
      }
    },
    {
      "cell_type": "code",
      "source": [
        "pivot.style.format(formatter=\"{:.1f}\").background_gradient()"
      ],
      "metadata": {
        "colab": {
          "base_uri": "https://localhost:8080/",
          "height": 206
        },
        "id": "WqF6Vn-q8IbW",
        "outputId": "e896bf61-0ccf-4fd6-cfa8-ab3e3e811f69"
      },
      "execution_count": null,
      "outputs": [
        {
          "output_type": "execute_result",
          "data": {
            "text/plain": [
              "<pandas.io.formats.style.Styler at 0x7e1cf532c0d0>"
            ],
            "text/html": [
              "<style type=\"text/css\">\n",
              "#T_f8d9a_row0_col0, #T_f8d9a_row0_col1, #T_f8d9a_row0_col2, #T_f8d9a_row0_col3 {\n",
              "  background-color: #023858;\n",
              "  color: #f1f1f1;\n",
              "}\n",
              "#T_f8d9a_row1_col0 {\n",
              "  background-color: #3790c0;\n",
              "  color: #f1f1f1;\n",
              "}\n",
              "#T_f8d9a_row1_col1 {\n",
              "  background-color: #6fa7ce;\n",
              "  color: #f1f1f1;\n",
              "}\n",
              "#T_f8d9a_row1_col2 {\n",
              "  background-color: #358fc0;\n",
              "  color: #f1f1f1;\n",
              "}\n",
              "#T_f8d9a_row1_col3 {\n",
              "  background-color: #0771b1;\n",
              "  color: #f1f1f1;\n",
              "}\n",
              "#T_f8d9a_row2_col0 {\n",
              "  background-color: #dbdaeb;\n",
              "  color: #000000;\n",
              "}\n",
              "#T_f8d9a_row2_col1 {\n",
              "  background-color: #dedcec;\n",
              "  color: #000000;\n",
              "}\n",
              "#T_f8d9a_row2_col2 {\n",
              "  background-color: #d9d8ea;\n",
              "  color: #000000;\n",
              "}\n",
              "#T_f8d9a_row2_col3 {\n",
              "  background-color: #c6cce3;\n",
              "  color: #000000;\n",
              "}\n",
              "#T_f8d9a_row3_col0, #T_f8d9a_row3_col1, #T_f8d9a_row3_col2, #T_f8d9a_row3_col3 {\n",
              "  background-color: #fff7fb;\n",
              "  color: #000000;\n",
              "}\n",
              "</style>\n",
              "<table id=\"T_f8d9a\" class=\"dataframe\">\n",
              "  <thead>\n",
              "    <tr>\n",
              "      <th class=\"index_name level0\" >work_year</th>\n",
              "      <th id=\"T_f8d9a_level0_col0\" class=\"col_heading level0 col0\" >2020</th>\n",
              "      <th id=\"T_f8d9a_level0_col1\" class=\"col_heading level0 col1\" >2021</th>\n",
              "      <th id=\"T_f8d9a_level0_col2\" class=\"col_heading level0 col2\" >2022</th>\n",
              "      <th id=\"T_f8d9a_level0_col3\" class=\"col_heading level0 col3\" >2023</th>\n",
              "    </tr>\n",
              "    <tr>\n",
              "      <th class=\"index_name level0\" >experience_level</th>\n",
              "      <th class=\"blank col0\" >&nbsp;</th>\n",
              "      <th class=\"blank col1\" >&nbsp;</th>\n",
              "      <th class=\"blank col2\" >&nbsp;</th>\n",
              "      <th class=\"blank col3\" >&nbsp;</th>\n",
              "    </tr>\n",
              "  </thead>\n",
              "  <tbody>\n",
              "    <tr>\n",
              "      <th id=\"T_f8d9a_level0_row0\" class=\"row_heading level0 row0\" >Director</th>\n",
              "      <td id=\"T_f8d9a_row0_col0\" class=\"data row0 col0\" >179958.2</td>\n",
              "      <td id=\"T_f8d9a_row0_col1\" class=\"data row0 col1\" >186128.0</td>\n",
              "      <td id=\"T_f8d9a_row0_col2\" class=\"data row0 col2\" >188260.3</td>\n",
              "      <td id=\"T_f8d9a_row0_col3\" class=\"data row0 col3\" >190360.7</td>\n",
              "    </tr>\n",
              "    <tr>\n",
              "      <th id=\"T_f8d9a_level0_row1\" class=\"row_heading level0 row1\" >Expert</th>\n",
              "      <td id=\"T_f8d9a_row1_col0\" class=\"data row1 col0\" >138648.9</td>\n",
              "      <td id=\"T_f8d9a_row1_col1\" class=\"data row1 col1\" >125989.7</td>\n",
              "      <td id=\"T_f8d9a_row1_col2\" class=\"data row1 col2\" >148060.0</td>\n",
              "      <td id=\"T_f8d9a_row1_col3\" class=\"data row1 col3\" >165865.3</td>\n",
              "    </tr>\n",
              "    <tr>\n",
              "      <th id=\"T_f8d9a_level0_row2\" class=\"row_heading level0 row2\" >Intermediate</th>\n",
              "      <td id=\"T_f8d9a_row2_col0\" class=\"data row2 col0\" >91870.9</td>\n",
              "      <td id=\"T_f8d9a_row2_col1\" class=\"data row2 col1\" >86818.4</td>\n",
              "      <td id=\"T_f8d9a_row2_col2\" class=\"data row2 col2\" >102733.4</td>\n",
              "      <td id=\"T_f8d9a_row2_col3\" class=\"data row2 col3\" >121317.0</td>\n",
              "    </tr>\n",
              "    <tr>\n",
              "      <th id=\"T_f8d9a_level0_row3\" class=\"row_heading level0 row3\" >Junior</th>\n",
              "      <td id=\"T_f8d9a_row3_col0\" class=\"data row3 col0\" >69840.7</td>\n",
              "      <td id=\"T_f8d9a_row3_col1\" class=\"data row3 col1\" >63463.1</td>\n",
              "      <td id=\"T_f8d9a_row3_col2\" class=\"data row3 col2\" >80393.3</td>\n",
              "      <td id=\"T_f8d9a_row3_col3\" class=\"data row3 col3\" >94446.5</td>\n",
              "    </tr>\n",
              "  </tbody>\n",
              "</table>\n"
            ]
          },
          "metadata": {},
          "execution_count": 162
        }
      ]
    }
  ]
}