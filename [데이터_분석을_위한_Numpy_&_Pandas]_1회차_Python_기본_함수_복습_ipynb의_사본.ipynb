{
  "nbformat": 4,
  "nbformat_minor": 0,
  "metadata": {
    "colab": {
      "provenance": [],
      "toc_visible": true,
      "include_colab_link": true
    },
    "kernelspec": {
      "name": "python3",
      "display_name": "Python 3"
    },
    "language_info": {
      "name": "python"
    }
  },
  "cells": [
    {
      "cell_type": "markdown",
      "metadata": {
        "id": "view-in-github",
        "colab_type": "text"
      },
      "source": [
        "<a href=\"https://colab.research.google.com/github/moonsy0311/-/blob/main/%5B%EB%8D%B0%EC%9D%B4%ED%84%B0_%EB%B6%84%EC%84%9D%EC%9D%84_%EC%9C%84%ED%95%9C_Numpy_%26_Pandas%5D_1%ED%9A%8C%EC%B0%A8_Python_%EA%B8%B0%EB%B3%B8_%ED%95%A8%EC%88%98_%EB%B3%B5%EC%8A%B5_ipynb%EC%9D%98_%EC%82%AC%EB%B3%B8.ipynb\" target=\"_parent\"><img src=\"https://colab.research.google.com/assets/colab-badge.svg\" alt=\"Open In Colab\"/></a>"
      ]
    },
    {
      "cell_type": "markdown",
      "source": [
        "![KakaoTalk_20230803_163633393.png](data:image/png;base64,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)"
      ],
      "metadata": {
        "id": "K-K9o7hqtlqk"
      }
    },
    {
      "cell_type": "markdown",
      "source": [
        "---"
      ],
      "metadata": {
        "id": "qq_CusvwtsVU"
      }
    },
    {
      "cell_type": "markdown",
      "source": [
        "## Python 기초 이해하기"
      ],
      "metadata": {
        "id": "6VdQV8OUtyyk"
      }
    },
    {
      "cell_type": "markdown",
      "source": [
        "### 변수와 데이터 타입\n"
      ],
      "metadata": {
        "id": "ev337qDMuE5-"
      }
    },
    {
      "cell_type": "code",
      "execution_count": null,
      "metadata": {
        "colab": {
          "base_uri": "https://localhost:8080/"
        },
        "id": "-1YSYQA7ss7J",
        "outputId": "8727373b-810b-4c92-ed73-7e52ea02c04d"
      },
      "outputs": [
        {
          "output_type": "stream",
          "name": "stdout",
          "text": [
            "<class 'int'>\n"
          ]
        }
      ],
      "source": [
        "# 변수 할당\n",
        "number = 10\n",
        "# 데이터 타입 출력\n",
        "print(type(number))   # <class 'int'>"
      ]
    },
    {
      "cell_type": "code",
      "source": [
        "number"
      ],
      "metadata": {
        "colab": {
          "base_uri": "https://localhost:8080/"
        },
        "id": "KvmxENbqdhtg",
        "outputId": "8bb28d10-05a5-4095-b618-05dd419645f3"
      },
      "execution_count": null,
      "outputs": [
        {
          "output_type": "execute_result",
          "data": {
            "text/plain": [
              "10"
            ]
          },
          "metadata": {},
          "execution_count": 15
        }
      ]
    },
    {
      "cell_type": "code",
      "source": [
        "decimal = 3.14\n",
        "print(type(decimal))  # <class 'float'>"
      ],
      "metadata": {
        "colab": {
          "base_uri": "https://localhost:8080/"
        },
        "id": "hZ5KHUmit9cF",
        "outputId": "4c026088-7151-40d5-c87f-c7fd68aecb17"
      },
      "execution_count": null,
      "outputs": [
        {
          "output_type": "stream",
          "name": "stdout",
          "text": [
            "<class 'float'>\n"
          ]
        }
      ]
    },
    {
      "cell_type": "code",
      "source": [
        "decimal-number"
      ],
      "metadata": {
        "colab": {
          "base_uri": "https://localhost:8080/"
        },
        "id": "pTDeEok2dd_H",
        "outputId": "033c2f24-de89-4d8c-f7c8-e2ac3a340493"
      },
      "execution_count": null,
      "outputs": [
        {
          "output_type": "execute_result",
          "data": {
            "text/plain": [
              "-6.859999999999999"
            ]
          },
          "metadata": {},
          "execution_count": 17
        }
      ]
    },
    {
      "cell_type": "code",
      "source": [
        "text = \"안녕하세요!\"\n",
        "print(type(text))     # <class 'str'>"
      ],
      "metadata": {
        "colab": {
          "base_uri": "https://localhost:8080/"
        },
        "id": "FB4V0FRvt90l",
        "outputId": "a94938da-c43f-4995-a01c-3f56ae091e98"
      },
      "execution_count": null,
      "outputs": [
        {
          "output_type": "stream",
          "name": "stdout",
          "text": [
            "<class 'str'>\n"
          ]
        }
      ]
    },
    {
      "cell_type": "code",
      "source": [
        "text"
      ],
      "metadata": {
        "colab": {
          "base_uri": "https://localhost:8080/",
          "height": 35
        },
        "id": "7y5tFMHleHzH",
        "outputId": "d65402cc-bcc9-4c14-96a2-a325c3aa90d1"
      },
      "execution_count": null,
      "outputs": [
        {
          "output_type": "execute_result",
          "data": {
            "text/plain": [
              "'안녕하세요!'"
            ],
            "application/vnd.google.colaboratory.intrinsic+json": {
              "type": "string"
            }
          },
          "metadata": {},
          "execution_count": 22
        }
      ]
    },
    {
      "cell_type": "markdown",
      "source": [
        "### 연산자"
      ],
      "metadata": {
        "id": "-8icX2f7uGfR"
      }
    },
    {
      "cell_type": "code",
      "source": [
        "# 산술 연산자\n",
        "a = 5\n",
        "b = 2"
      ],
      "metadata": {
        "id": "ZhxgoZZ5thfy"
      },
      "execution_count": null,
      "outputs": []
    },
    {
      "cell_type": "code",
      "source": [
        "print(a + b)  # 덧셈 결과: 7\n",
        "print(a - b)  # 뺄셈 결과: 3\n",
        "print(a * b)  # 곱셈 결과: 10\n",
        "print(a / b)  # 나눗셈 결과: 2.5"
      ],
      "metadata": {
        "colab": {
          "base_uri": "https://localhost:8080/"
        },
        "id": "w0zBm7EPuWHE",
        "outputId": "ad38fc69-d655-4f1b-eefa-37a3f69b56ae"
      },
      "execution_count": null,
      "outputs": [
        {
          "output_type": "stream",
          "name": "stdout",
          "text": [
            "7\n",
            "3\n",
            "10\n",
            "2.5\n"
          ]
        }
      ]
    },
    {
      "cell_type": "code",
      "source": [
        "a + b  # 덧셈 결과:\n",
        "a - b  # 뺄셈 결과: 3\n",
        "a * b # 곱셈 결과: 10\n",
        "a / b\n",
        "# 이렇게하면 맨 마지막 결과만 나오니까 다 나오게 하려면 print 꼭 써주기"
      ],
      "metadata": {
        "colab": {
          "base_uri": "https://localhost:8080/"
        },
        "id": "JRQ9Av_5eu76",
        "outputId": "f9dffd84-c078-4c6c-86c8-6893e0e6934b"
      },
      "execution_count": null,
      "outputs": [
        {
          "output_type": "execute_result",
          "data": {
            "text/plain": [
              "2.5"
            ]
          },
          "metadata": {},
          "execution_count": 28
        }
      ]
    },
    {
      "cell_type": "code",
      "source": [
        "# 비교 연산자\n",
        "print(a > b)  # True\n",
        "print(a < b)  # False"
      ],
      "metadata": {
        "colab": {
          "base_uri": "https://localhost:8080/"
        },
        "id": "yg7Zq-zCuWUd",
        "outputId": "7132cf3a-aea5-449a-b779-7d62211f09a2"
      },
      "execution_count": null,
      "outputs": [
        {
          "output_type": "stream",
          "name": "stdout",
          "text": [
            "True\n",
            "False\n"
          ]
        }
      ]
    },
    {
      "cell_type": "code",
      "source": [
        "# 논리 연산자\n",
        "print(a > 3 and b < 3)  # True\n",
        "print(a > 3 and b > 3)\n",
        "print(a > 3 or b > 3)   # True\n",
        "print(not (a > 3))      # False"
      ],
      "metadata": {
        "colab": {
          "base_uri": "https://localhost:8080/"
        },
        "id": "_Gk7ZoRbuZS9",
        "outputId": "4abdac55-f991-4d43-dbef-c3e79ec02717"
      },
      "execution_count": null,
      "outputs": [
        {
          "output_type": "stream",
          "name": "stdout",
          "text": [
            "True\n",
            "False\n",
            "True\n",
            "False\n"
          ]
        }
      ]
    },
    {
      "cell_type": "code",
      "source": [
        "a > 3 and b < 3"
      ],
      "metadata": {
        "colab": {
          "base_uri": "https://localhost:8080/"
        },
        "id": "dOoBJIFhfQn7",
        "outputId": "49dd9a28-bff7-4bca-e0ca-adb31661f5f9"
      },
      "execution_count": null,
      "outputs": [
        {
          "output_type": "execute_result",
          "data": {
            "text/plain": [
              "True"
            ]
          },
          "metadata": {},
          "execution_count": 31
        }
      ]
    },
    {
      "cell_type": "markdown",
      "source": [
        "## 흐름 제어"
      ],
      "metadata": {
        "id": "UXuUy5Z0unVi"
      }
    },
    {
      "cell_type": "markdown",
      "source": [
        "### 조건문 (if, else, elif)"
      ],
      "metadata": {
        "id": "00EDdUBIupTy"
      }
    },
    {
      "cell_type": "code",
      "source": [
        "# 조건문 예제\n",
        "age = 20"
      ],
      "metadata": {
        "id": "Un9-UmMeuaR9"
      },
      "execution_count": null,
      "outputs": []
    },
    {
      "cell_type": "code",
      "source": [
        "if age < 18:\n",
        "    print(\"청소년입니다.\")\n",
        "\n",
        "elif age >= 18 and age < 65:\n",
        "    print(\"성인입니다.\")\n",
        "\n",
        "else:\n",
        "    print(\"노인입니다.\")"
      ],
      "metadata": {
        "colab": {
          "base_uri": "https://localhost:8080/"
        },
        "id": "KUd90x2Huru9",
        "outputId": "fa9eac44-6cbc-40af-c7f1-3398eac0f781"
      },
      "execution_count": null,
      "outputs": [
        {
          "output_type": "stream",
          "name": "stdout",
          "text": [
            "성인입니다.\n"
          ]
        }
      ]
    },
    {
      "cell_type": "code",
      "source": [
        "age=int(input(\"what;s your age?:\"))\n",
        "\n",
        "if age<=18:\n",
        "  print(\"청소년\")\n",
        "elif age<60:\n",
        "  print(\"성인\")\n",
        "else:\n",
        "  print(\"노인\")"
      ],
      "metadata": {
        "colab": {
          "base_uri": "https://localhost:8080/"
        },
        "id": "Yh0igRy5faPq",
        "outputId": "40153adb-ee9a-41a6-91c3-7854388d6b69"
      },
      "execution_count": null,
      "outputs": [
        {
          "output_type": "stream",
          "name": "stdout",
          "text": [
            "what;s your age?:78\n",
            "노인\n"
          ]
        }
      ]
    },
    {
      "cell_type": "code",
      "source": [
        "##indent: 들여쓰기"
      ],
      "metadata": {
        "id": "cntQm8hOhOfB"
      },
      "execution_count": null,
      "outputs": []
    },
    {
      "cell_type": "markdown",
      "source": [
        "### 반복문 (for, while)"
      ],
      "metadata": {
        "id": "jzIG6Pe6uvN2"
      }
    },
    {
      "cell_type": "code",
      "source": [
        "# for 반복문 예제\n",
        "for i in range(5):  # 0부터 4까지 반복\n",
        "    print(i)"
      ],
      "metadata": {
        "colab": {
          "base_uri": "https://localhost:8080/"
        },
        "id": "XFcRGC74utEu",
        "outputId": "dc4d9862-66ec-45c9-9638-1fa0d2595787"
      },
      "execution_count": null,
      "outputs": [
        {
          "output_type": "stream",
          "name": "stdout",
          "text": [
            "0\n",
            "1\n",
            "2\n",
            "3\n",
            "4\n"
          ]
        }
      ]
    },
    {
      "cell_type": "code",
      "source": [
        "for i in [0,1,2,3,4,5]:\n",
        "  print(i+10)"
      ],
      "metadata": {
        "colab": {
          "base_uri": "https://localhost:8080/"
        },
        "id": "qxSzbNFsiEey",
        "outputId": "2b782a6f-c667-4be2-8b28-e2239b17d74f"
      },
      "execution_count": null,
      "outputs": [
        {
          "output_type": "stream",
          "name": "stdout",
          "text": [
            "10\n",
            "11\n",
            "12\n",
            "13\n",
            "14\n",
            "15\n"
          ]
        }
      ]
    },
    {
      "cell_type": "code",
      "source": [
        "list(range(0,15))"
      ],
      "metadata": {
        "colab": {
          "base_uri": "https://localhost:8080/"
        },
        "id": "LPWuOYSgisJI",
        "outputId": "a325fd8f-8f2c-4723-e2d5-9cabda90309d"
      },
      "execution_count": null,
      "outputs": [
        {
          "output_type": "execute_result",
          "data": {
            "text/plain": [
              "[0, 1, 2, 3, 4, 5, 6, 7, 8, 9, 10, 11, 12, 13, 14]"
            ]
          },
          "metadata": {},
          "execution_count": 46
        }
      ]
    },
    {
      "cell_type": "code",
      "source": [
        "list(range(10,20,2))"
      ],
      "metadata": {
        "colab": {
          "base_uri": "https://localhost:8080/"
        },
        "id": "BPrLpKyhioP_",
        "outputId": "d8459516-c651-4aa9-9d7e-aa7d4ab928f9"
      },
      "execution_count": null,
      "outputs": [
        {
          "output_type": "execute_result",
          "data": {
            "text/plain": [
              "[10, 12, 14, 16, 18]"
            ]
          },
          "metadata": {},
          "execution_count": 44
        }
      ]
    },
    {
      "cell_type": "code",
      "source": [
        "list(range(0,200+1,100))"
      ],
      "metadata": {
        "colab": {
          "base_uri": "https://localhost:8080/"
        },
        "id": "KdVzpLr_i0o2",
        "outputId": "287e8edb-c00a-498a-eecf-51845fc18a7a"
      },
      "execution_count": null,
      "outputs": [
        {
          "output_type": "execute_result",
          "data": {
            "text/plain": [
              "[0, 100, 200]"
            ]
          },
          "metadata": {},
          "execution_count": 52
        }
      ]
    },
    {
      "cell_type": "code",
      "source": [
        "list(range(1,201,99))"
      ],
      "metadata": {
        "colab": {
          "base_uri": "https://localhost:8080/"
        },
        "id": "fn8RTbsyjIOS",
        "outputId": "1332de24-50a4-457f-8ca8-d036b1ff8159"
      },
      "execution_count": null,
      "outputs": [
        {
          "output_type": "execute_result",
          "data": {
            "text/plain": [
              "[1, 100, 199]"
            ]
          },
          "metadata": {},
          "execution_count": 53
        }
      ]
    },
    {
      "cell_type": "code",
      "source": [
        "# while 반복문 예제\n",
        "count = 0\n",
        "while count < 5:\n",
        "    print(count)\n",
        "    count += 1\n",
        "  #while은 참일 떄, 무한 반복됨, 이거 끄려다가 원래 쓰던 코드 다같이 날라감"
      ],
      "metadata": {
        "colab": {
          "base_uri": "https://localhost:8080/"
        },
        "id": "oLlIZP0iuxE9",
        "outputId": "bcb47bb2-02c8-4efa-d292-c61e58667cf2"
      },
      "execution_count": null,
      "outputs": [
        {
          "output_type": "stream",
          "name": "stdout",
          "text": [
            "0\n",
            "1\n",
            "2\n",
            "3\n",
            "4\n"
          ]
        }
      ]
    },
    {
      "cell_type": "markdown",
      "source": [
        "## 함수 정의 및 사용"
      ],
      "metadata": {
        "id": "SySYnmGju8j9"
      }
    },
    {
      "cell_type": "markdown",
      "source": [
        "### 함수 정의"
      ],
      "metadata": {
        "id": "WOJHG6PEu-9_"
      }
    },
    {
      "cell_type": "code",
      "source": [
        "def greet(name):\n",
        "    return f\"안녕하세요, {name}님!\"\n",
        "    #greet는 함수명 like f(x)\n",
        "    #f는 ? 문자열에 함수를 정의할 때, 사용..."
      ],
      "metadata": {
        "id": "3moF921TuyRF"
      },
      "execution_count": null,
      "outputs": []
    },
    {
      "cell_type": "code",
      "source": [
        "name=\"나루\"\n",
        "\"안녕하세요, {}님!\". format(name)\n",
        "#가운데에 , 아니고 온점"
      ],
      "metadata": {
        "colab": {
          "base_uri": "https://localhost:8080/",
          "height": 35
        },
        "id": "6WAbbfUxlhxA",
        "outputId": "69770c56-438a-45dc-d1de-d8b63103aaa1"
      },
      "execution_count": null,
      "outputs": [
        {
          "output_type": "execute_result",
          "data": {
            "text/plain": [
              "'안녕하세요, 나루님!'"
            ],
            "application/vnd.google.colaboratory.intrinsic+json": {
              "type": "string"
            }
          },
          "metadata": {},
          "execution_count": 69
        }
      ]
    },
    {
      "cell_type": "code",
      "source": [
        "# 함수 호출\n",
        "print(greet(\"나루\"))"
      ],
      "metadata": {
        "colab": {
          "base_uri": "https://localhost:8080/"
        },
        "id": "q_Xky3F1vBaV",
        "outputId": "142b7a19-f90c-43d8-e849-e19f31d2bbb2"
      },
      "execution_count": null,
      "outputs": [
        {
          "output_type": "stream",
          "name": "stdout",
          "text": [
            "안녕하세요, 나루님!\n"
          ]
        }
      ]
    },
    {
      "cell_type": "code",
      "source": [
        "def f(x):\n",
        "  print(x+10)"
      ],
      "metadata": {
        "id": "oFws2zvRk8ta"
      },
      "execution_count": null,
      "outputs": []
    },
    {
      "cell_type": "code",
      "source": [
        "f(10)"
      ],
      "metadata": {
        "colab": {
          "base_uri": "https://localhost:8080/"
        },
        "id": "voLoJ5K9lBMn",
        "outputId": "770e6e80-2f1c-42dd-c3ca-b6e231527b2d"
      },
      "execution_count": null,
      "outputs": [
        {
          "output_type": "stream",
          "name": "stdout",
          "text": [
            "20\n"
          ]
        }
      ]
    },
    {
      "cell_type": "markdown",
      "source": [
        "### 함수 인자\n"
      ],
      "metadata": {
        "id": "ur-yVdshvGyi"
      }
    },
    {
      "cell_type": "code",
      "source": [
        "def full_name(first_name, last_name):\n",
        "    return first_name + \" \" + last_name"
      ],
      "metadata": {
        "id": "I6XpjqT6vDIM"
      },
      "execution_count": null,
      "outputs": []
    },
    {
      "cell_type": "code",
      "source": [
        "# 위치 인자를 사용한 호출\n",
        "print(full_name(\"마포\", \"나루\"))"
      ],
      "metadata": {
        "colab": {
          "base_uri": "https://localhost:8080/"
        },
        "id": "xEpZIH4VvIIk",
        "outputId": "c75046d4-4ea0-49ab-dbe7-a3e2099752c4"
      },
      "execution_count": null,
      "outputs": [
        {
          "output_type": "stream",
          "name": "stdout",
          "text": [
            "마포 나루\n"
          ]
        }
      ]
    },
    {
      "cell_type": "code",
      "source": [
        "# 키워드 인자를 사용한 호출\n",
        "print(full_name(last_name=\"나루\", first_name=\"마포\"))"
      ],
      "metadata": {
        "colab": {
          "base_uri": "https://localhost:8080/"
        },
        "id": "4JyiX8tEvJfV",
        "outputId": "352ffc66-2909-4e91-ef99-433b72ea3e12"
      },
      "execution_count": null,
      "outputs": [
        {
          "output_type": "stream",
          "name": "stdout",
          "text": [
            "마포 나루\n"
          ]
        }
      ]
    },
    {
      "cell_type": "markdown",
      "source": [
        "### 함수에서 값 반환\n"
      ],
      "metadata": {
        "id": "59MEB4HSvVkq"
      }
    },
    {
      "cell_type": "code",
      "source": [
        "def calculate_area(width, height):\n",
        "    return width * height"
      ],
      "metadata": {
        "id": "JxYnrkEYvRHM"
      },
      "execution_count": null,
      "outputs": []
    },
    {
      "cell_type": "code",
      "source": [
        "# 반환된 값을 변수에 저장\n",
        "area = calculate_area(5, 3)\n",
        "print(\"면적:\", area)"
      ],
      "metadata": {
        "colab": {
          "base_uri": "https://localhost:8080/"
        },
        "id": "qQ3oKiB-vYCF",
        "outputId": "2ab0dd90-050a-428a-e659-1bb6d274dd70"
      },
      "execution_count": null,
      "outputs": [
        {
          "output_type": "stream",
          "name": "stdout",
          "text": [
            "면적: 15\n"
          ]
        }
      ]
    },
    {
      "cell_type": "markdown",
      "source": [
        "## 기본 입출력"
      ],
      "metadata": {
        "id": "p07S56Ykvg9X"
      }
    },
    {
      "cell_type": "markdown",
      "source": [
        "### print() 함수 사용하기"
      ],
      "metadata": {
        "id": "MZYj9yPSviav"
      }
    },
    {
      "cell_type": "code",
      "source": [
        "# 단순 문자열 출력\n",
        "print(\"Hello, World!\")"
      ],
      "metadata": {
        "colab": {
          "base_uri": "https://localhost:8080/"
        },
        "id": "RQBSLUfpvZfF",
        "outputId": "deb6ff3b-1a66-4c9f-ac9d-92f84c9ae34b"
      },
      "execution_count": null,
      "outputs": [
        {
          "output_type": "stream",
          "name": "stdout",
          "text": [
            "Hello, World!\n"
          ]
        }
      ]
    },
    {
      "cell_type": "code",
      "source": [
        "# 변수와 함께 문자열 출력\n",
        "name = \"나루\"\n",
        "print(\"안녕하세요,\", name)"
      ],
      "metadata": {
        "colab": {
          "base_uri": "https://localhost:8080/"
        },
        "id": "WNoW_JHOvj9F",
        "outputId": "4879a074-17d8-4f53-8802-682b7eaaff39"
      },
      "execution_count": null,
      "outputs": [
        {
          "output_type": "stream",
          "name": "stdout",
          "text": [
            "안녕하세요, 나루\n"
          ]
        }
      ]
    },
    {
      "cell_type": "code",
      "source": [
        "# 여러 변수 출력\n",
        "age = 25\n",
        "print(name, \"님은\", age, \"살입니다.\")"
      ],
      "metadata": {
        "colab": {
          "base_uri": "https://localhost:8080/"
        },
        "id": "M6e8nDr-vkod",
        "outputId": "58054393-7ce0-4d56-84e5-480e151810e6"
      },
      "execution_count": null,
      "outputs": [
        {
          "output_type": "stream",
          "name": "stdout",
          "text": [
            "나루 님은 25 살입니다.\n"
          ]
        }
      ]
    },
    {
      "cell_type": "code",
      "source": [
        "# 문자열 포매팅 사용\n",
        "print(f\"{name}님은 {age}살입니다.\")"
      ],
      "metadata": {
        "colab": {
          "base_uri": "https://localhost:8080/"
        },
        "id": "bRM5knexvlEN",
        "outputId": "18b6e409-745a-4d94-915d-0dfbe6b8e665"
      },
      "execution_count": null,
      "outputs": [
        {
          "output_type": "stream",
          "name": "stdout",
          "text": [
            "나루님은 25살입니다.\n"
          ]
        }
      ]
    },
    {
      "cell_type": "markdown",
      "source": [
        "### input() 함수 사용하기\n"
      ],
      "metadata": {
        "id": "xqp7vDtxvzW-"
      }
    },
    {
      "cell_type": "code",
      "source": [
        "# 사용자로부터 이름 입력 받기\n",
        "user_name = input(\"당신의 이름을 입력하세요: \")\n",
        "print(f\"안녕하세요, {user_name}님!\")"
      ],
      "metadata": {
        "colab": {
          "base_uri": "https://localhost:8080/"
        },
        "id": "EXbLBXNNvoFM",
        "outputId": "f14d0dbf-bd36-4579-9811-cc7118810341"
      },
      "execution_count": null,
      "outputs": [
        {
          "output_type": "stream",
          "name": "stdout",
          "text": [
            "당신의 이름을 입력하세요: 나루\n",
            "안녕하세요, 나루님!\n"
          ]
        }
      ]
    },
    {
      "cell_type": "code",
      "source": [
        "# 사용자로부터 나이 입력 받기\n",
        "user_age = input(\"당신의 나이를 입력하세요: \")\n",
        "print(f\"{user_name}님은 {user_age}살입니다.\")"
      ],
      "metadata": {
        "colab": {
          "base_uri": "https://localhost:8080/"
        },
        "id": "GCJvE-W_v1fc",
        "outputId": "faef6291-4bed-46a0-f287-489410bbf66b"
      },
      "execution_count": null,
      "outputs": [
        {
          "output_type": "stream",
          "name": "stdout",
          "text": [
            "당신의 나이를 입력하세요: 25\n",
            "나루님은 25살입니다.\n"
          ]
        }
      ]
    },
    {
      "cell_type": "markdown",
      "source": [
        "## 자료구조"
      ],
      "metadata": {
        "id": "5zgQ_qpUv_G-"
      }
    },
    {
      "cell_type": "markdown",
      "source": [
        "### 리스트 (List)\n"
      ],
      "metadata": {
        "id": "bvxLOqKuwAcS"
      }
    },
    {
      "cell_type": "code",
      "source": [
        "# 리스트 생성\n",
        "fruits = [\"apple\", \"banana\", \"cherry\"]\n",
        "print(fruits)"
      ],
      "metadata": {
        "colab": {
          "base_uri": "https://localhost:8080/"
        },
        "id": "7snzIMnnv4Gd",
        "outputId": "f35ecc11-e5f6-4691-9abd-01e5bbee0b12"
      },
      "execution_count": null,
      "outputs": [
        {
          "output_type": "stream",
          "name": "stdout",
          "text": [
            "['apple', 'banana', 'cherry']\n"
          ]
        }
      ]
    },
    {
      "cell_type": "code",
      "source": [
        "# 리스트 항목 추가\n",
        "fruits.append(\"orange\")\n",
        "print(fruits)"
      ],
      "metadata": {
        "colab": {
          "base_uri": "https://localhost:8080/"
        },
        "id": "i1poaVLxwCeM",
        "outputId": "f953937c-2d4e-4e58-8f71-8325e372e507"
      },
      "execution_count": null,
      "outputs": [
        {
          "output_type": "stream",
          "name": "stdout",
          "text": [
            "['apple', 'banana', 'cherry', 'orange']\n"
          ]
        }
      ]
    },
    {
      "cell_type": "code",
      "source": [
        "# 특정 인덱스에 있는 항목 접근\n",
        "print(fruits[1])  # banana"
      ],
      "metadata": {
        "colab": {
          "base_uri": "https://localhost:8080/"
        },
        "id": "3yyyw740wDBU",
        "outputId": "afea35fc-4e1d-40d8-ed20-90b0d5cf13e2"
      },
      "execution_count": null,
      "outputs": [
        {
          "output_type": "stream",
          "name": "stdout",
          "text": [
            "banana\n"
          ]
        }
      ]
    },
    {
      "cell_type": "code",
      "source": [
        "# 리스트 항목 삭제\n",
        "fruits.remove(\"banana\")\n",
        "print(fruits)"
      ],
      "metadata": {
        "colab": {
          "base_uri": "https://localhost:8080/"
        },
        "id": "yBiqQtqgwDas",
        "outputId": "7eb21ff5-7d5d-4dfa-b299-1bfe5023eb3b"
      },
      "execution_count": null,
      "outputs": [
        {
          "output_type": "stream",
          "name": "stdout",
          "text": [
            "['apple', 'cherry', 'orange']\n"
          ]
        }
      ]
    },
    {
      "cell_type": "markdown",
      "source": [
        "### 튜플 (Tuple)\n"
      ],
      "metadata": {
        "id": "92dNhpIewM7c"
      }
    },
    {
      "cell_type": "code",
      "source": [
        "# 튜플 생성\n",
        "coordinates = (10, 20, 30)\n",
        "print(coordinates)"
      ],
      "metadata": {
        "colab": {
          "base_uri": "https://localhost:8080/"
        },
        "id": "WpoYtn6ywNY8",
        "outputId": "5a52dbbf-1020-4428-8ff3-dcd5581934d1"
      },
      "execution_count": null,
      "outputs": [
        {
          "output_type": "stream",
          "name": "stdout",
          "text": [
            "(10, 20, 30)\n"
          ]
        }
      ]
    },
    {
      "cell_type": "code",
      "source": [
        "# 튜플에서 항목 접근\n",
        "print(coordinates[1])  # 20"
      ],
      "metadata": {
        "colab": {
          "base_uri": "https://localhost:8080/"
        },
        "id": "-16zu0cRwOu8",
        "outputId": "5cf55f6d-1ce2-406d-e6de-2206bf1d5d1b"
      },
      "execution_count": null,
      "outputs": [
        {
          "output_type": "stream",
          "name": "stdout",
          "text": [
            "20\n"
          ]
        }
      ]
    },
    {
      "cell_type": "code",
      "source": [
        "# 튜플은 변경 불가능 (immutable)\n",
        "coordinates[1] = 50  # 이 코드는 에러를 발생시킵니다."
      ],
      "metadata": {
        "colab": {
          "base_uri": "https://localhost:8080/",
          "height": 166
        },
        "id": "0RlINiIlwPfE",
        "outputId": "644f7fd6-7f04-46df-a2bd-935e7c04cb79"
      },
      "execution_count": null,
      "outputs": [
        {
          "output_type": "error",
          "ename": "TypeError",
          "evalue": "'tuple' object does not support item assignment",
          "traceback": [
            "\u001b[0;31m---------------------------------------------------------------------------\u001b[0m",
            "\u001b[0;31mTypeError\u001b[0m                                 Traceback (most recent call last)",
            "\u001b[0;32m<ipython-input-31-4d44f70c1914>\u001b[0m in \u001b[0;36m<cell line: 2>\u001b[0;34m()\u001b[0m\n\u001b[1;32m      1\u001b[0m \u001b[0;31m# 튜플은 변경 불가능 (immutable)\u001b[0m\u001b[0;34m\u001b[0m\u001b[0;34m\u001b[0m\u001b[0m\n\u001b[0;32m----> 2\u001b[0;31m \u001b[0mcoordinates\u001b[0m\u001b[0;34m[\u001b[0m\u001b[0;36m1\u001b[0m\u001b[0;34m]\u001b[0m \u001b[0;34m=\u001b[0m \u001b[0;36m50\u001b[0m  \u001b[0;31m# 이 코드는 에러를 발생시킵니다.\u001b[0m\u001b[0;34m\u001b[0m\u001b[0;34m\u001b[0m\u001b[0m\n\u001b[0m",
            "\u001b[0;31mTypeError\u001b[0m: 'tuple' object does not support item assignment"
          ]
        }
      ]
    },
    {
      "cell_type": "markdown",
      "source": [
        "### 딕셔너리 (Dictionary)"
      ],
      "metadata": {
        "id": "yax4x3GjwVT8"
      }
    },
    {
      "cell_type": "code",
      "source": [
        "# 딕셔너리 생성\n",
        "person = {\"name\": \"나루\", \"age\": 25, \"city\": \"서울\"}\n",
        "print(person)"
      ],
      "metadata": {
        "colab": {
          "base_uri": "https://localhost:8080/"
        },
        "id": "KRL7gGXRwTbU",
        "outputId": "9b3623ae-3aba-43e7-f4fc-31ab4096f0e1"
      },
      "execution_count": null,
      "outputs": [
        {
          "output_type": "stream",
          "name": "stdout",
          "text": [
            "{'name': '나루', 'age': 25, 'city': '서울'}\n"
          ]
        }
      ]
    },
    {
      "cell_type": "code",
      "source": [
        "# 딕셔너리 항목 접근\n",
        "print(person[\"name\"])  # 나루"
      ],
      "metadata": {
        "colab": {
          "base_uri": "https://localhost:8080/"
        },
        "id": "mDXz2C9ywXV8",
        "outputId": "dc9cb963-30b7-468c-9a95-a4cb4dd54b9b"
      },
      "execution_count": null,
      "outputs": [
        {
          "output_type": "stream",
          "name": "stdout",
          "text": [
            "나루\n"
          ]
        }
      ]
    },
    {
      "cell_type": "code",
      "source": [
        "# 딕셔너리 항목 추가\n",
        "person[\"email\"] = \"jihoon@example.com\"\n",
        "print(person)"
      ],
      "metadata": {
        "colab": {
          "base_uri": "https://localhost:8080/"
        },
        "id": "hu2dhqAqwX-c",
        "outputId": "b882ca54-1a7f-4275-db22-6d5a712e1a5b"
      },
      "execution_count": null,
      "outputs": [
        {
          "output_type": "stream",
          "name": "stdout",
          "text": [
            "{'name': '나루', 'age': 25, 'city': '서울', 'email': 'jihoon@example.com'}\n"
          ]
        }
      ]
    },
    {
      "cell_type": "code",
      "source": [
        "# 딕셔너리 항목 삭제\n",
        "del person[\"age\"]\n",
        "print(person)"
      ],
      "metadata": {
        "colab": {
          "base_uri": "https://localhost:8080/"
        },
        "id": "WQEXt2dNwZ88",
        "outputId": "b5a8cd6d-0cd2-4c8c-e08c-9f955e74346f"
      },
      "execution_count": null,
      "outputs": [
        {
          "output_type": "stream",
          "name": "stdout",
          "text": [
            "{'name': '나루', 'city': '서울', 'email': 'jihoon@example.com'}\n"
          ]
        }
      ]
    },
    {
      "cell_type": "markdown",
      "source": [
        "### 집합 (Set)"
      ],
      "metadata": {
        "id": "3UoUGzQ7wmi9"
      }
    },
    {
      "cell_type": "code",
      "source": [
        "# 집합 생성\n",
        "numbers = {1, 2, 3, 4, 5}\n",
        "print(numbers)"
      ],
      "metadata": {
        "colab": {
          "base_uri": "https://localhost:8080/"
        },
        "id": "PgDvpdoYwnTk",
        "outputId": "b850bd66-f46d-411a-e12a-211100e09cdd"
      },
      "execution_count": null,
      "outputs": [
        {
          "output_type": "stream",
          "name": "stdout",
          "text": [
            "{1, 2, 3, 4, 5}\n"
          ]
        }
      ]
    },
    {
      "cell_type": "code",
      "source": [
        "# 집합에 항목 추가\n",
        "numbers.add(6)\n",
        "print(numbers)"
      ],
      "metadata": {
        "colab": {
          "base_uri": "https://localhost:8080/"
        },
        "id": "sgiTMDvPwofM",
        "outputId": "31e8b075-ec3d-4597-de9f-a281261f37a1"
      },
      "execution_count": null,
      "outputs": [
        {
          "output_type": "stream",
          "name": "stdout",
          "text": [
            "{1, 2, 3, 4, 5, 6}\n"
          ]
        }
      ]
    },
    {
      "cell_type": "code",
      "source": [
        "# 항목이 집합에 있는지 확인\n",
        "print(3 in numbers)  # True"
      ],
      "metadata": {
        "colab": {
          "base_uri": "https://localhost:8080/"
        },
        "id": "1dN-CyM1wpOl",
        "outputId": "82e3f540-0702-4bfa-d85f-bc1d5a5f8b8d"
      },
      "execution_count": null,
      "outputs": [
        {
          "output_type": "stream",
          "name": "stdout",
          "text": [
            "True\n"
          ]
        }
      ]
    },
    {
      "cell_type": "code",
      "source": [
        "# 집합에서 항목 제거\n",
        "numbers.remove(6)\n",
        "print(numbers)"
      ],
      "metadata": {
        "colab": {
          "base_uri": "https://localhost:8080/"
        },
        "id": "1L2MO2W7wpzU",
        "outputId": "64218c07-d8d8-4343-f4dc-8836092ab27a"
      },
      "execution_count": null,
      "outputs": [
        {
          "output_type": "stream",
          "name": "stdout",
          "text": [
            "{1, 2, 3, 4, 5}\n"
          ]
        }
      ]
    },
    {
      "cell_type": "markdown",
      "source": [
        "## 파일 다루기"
      ],
      "metadata": {
        "id": "jgtKkRUow13L"
      }
    },
    {
      "cell_type": "markdown",
      "source": [
        "### 파일 쓰기\n"
      ],
      "metadata": {
        "id": "s8eBVlhsw9_o"
      }
    },
    {
      "cell_type": "code",
      "source": [
        "# 'write_example.txt' 파일을 쓰기 모드로 열기\n",
        "with open('write_example.txt', 'w') as file:\n",
        "    file.write(\"Hello, Python!\\n\")  # 파일에 텍스트 쓰기\n",
        "    file.write(\"파일 다루기를 배웁니다.\\n\")"
      ],
      "metadata": {
        "id": "NIxDARFww2bc"
      },
      "execution_count": null,
      "outputs": []
    },
    {
      "cell_type": "markdown",
      "source": [
        "### 파일 읽기\n"
      ],
      "metadata": {
        "id": "_Yoh9gTYw_dG"
      }
    },
    {
      "cell_type": "code",
      "source": [
        "# 'write_example.txt' 파일을 읽기 모드로 열기\n",
        "with open('write_example.txt', 'r') as file:\n",
        "    content = file.read()  # 파일의 전체 내용 읽기\n",
        "    print(content)"
      ],
      "metadata": {
        "colab": {
          "base_uri": "https://localhost:8080/"
        },
        "id": "xW_HLoi4w8NE",
        "outputId": "4d35a943-36cd-438d-e646-e7a98da6a75a"
      },
      "execution_count": null,
      "outputs": [
        {
          "output_type": "stream",
          "name": "stdout",
          "text": [
            "Hello, Python!\n",
            "파일 다루기를 배웁니다.\n",
            "\n"
          ]
        }
      ]
    },
    {
      "cell_type": "markdown",
      "source": [
        "### 파일에 추가하기\n"
      ],
      "metadata": {
        "id": "QuD3tKgMxDgM"
      }
    },
    {
      "cell_type": "code",
      "source": [
        "# 'write_example.txt' 파일을 추가 모드로 열기\n",
        "with open('write_example.txt', 'a') as file:\n",
        "    file.write(\"새로운 내용 추가하기.\\n\")"
      ],
      "metadata": {
        "id": "vBzHof46xA48"
      },
      "execution_count": null,
      "outputs": []
    },
    {
      "cell_type": "markdown",
      "source": [
        "### 파일 줄 단위로 읽기"
      ],
      "metadata": {
        "id": "d_kv-enUxGV6"
      }
    },
    {
      "cell_type": "code",
      "source": [
        "# 'write_example.txt' 파일을 읽기 모드로 열기\n",
        "with open('write_example.txt', 'r') as file:\n",
        "    for line in file:  # 파일의 각 줄을 순회하면서\n",
        "        print(line.strip())  # 줄바꿈 문자 제거 후 출력"
      ],
      "metadata": {
        "colab": {
          "base_uri": "https://localhost:8080/"
        },
        "id": "-0OF_sSxxFLc",
        "outputId": "09fef5b6-754b-4b0c-8b71-cf8f7a0ce8dd"
      },
      "execution_count": null,
      "outputs": [
        {
          "output_type": "stream",
          "name": "stdout",
          "text": [
            "Hello, Python!\n",
            "파일 다루기를 배웁니다.\n",
            "새로운 내용 추가하기.\n"
          ]
        }
      ]
    },
    {
      "cell_type": "markdown",
      "source": [
        "## 모듈과 패키지"
      ],
      "metadata": {
        "id": "GxHdgEJ6xUSr"
      }
    },
    {
      "cell_type": "markdown",
      "source": [
        "### 모듈 사용하기"
      ],
      "metadata": {
        "id": "PUdXsAXMxVxp"
      }
    },
    {
      "cell_type": "code",
      "source": [
        "import math"
      ],
      "metadata": {
        "id": "xsqO5Ar_xJQ8"
      },
      "execution_count": null,
      "outputs": []
    },
    {
      "cell_type": "code",
      "source": [
        "# math 모듈의 sqrt 함수 사용하기\n",
        "result = math.sqrt(25)\n",
        "print(result)  # 결과: 5.0"
      ],
      "metadata": {
        "colab": {
          "base_uri": "https://localhost:8080/"
        },
        "id": "RJPLFKeGxXns",
        "outputId": "979d4069-0ee0-4bac-ba98-f888dbb3a996"
      },
      "execution_count": null,
      "outputs": [
        {
          "output_type": "stream",
          "name": "stdout",
          "text": [
            "5.0\n"
          ]
        }
      ]
    },
    {
      "cell_type": "code",
      "source": [
        "# math 모듈의 pi 상수 사용하기\n",
        "print(math.pi)  # 결과: 3.141592653589793"
      ],
      "metadata": {
        "colab": {
          "base_uri": "https://localhost:8080/"
        },
        "id": "E8_3Yim4xYfs",
        "outputId": "4985c868-58b1-4c15-a58d-1e805c5f5e1d"
      },
      "execution_count": null,
      "outputs": [
        {
          "output_type": "stream",
          "name": "stdout",
          "text": [
            "3.141592653589793\n"
          ]
        }
      ]
    },
    {
      "cell_type": "markdown",
      "source": [
        "### 자체 모듈 만들기\n"
      ],
      "metadata": {
        "id": "D_1_F0qFxcI6"
      }
    },
    {
      "cell_type": "code",
      "source": [
        "# 'write_example.txt' 파일을 추가 모드로 열기\n",
        "with open('mapo.py', 'w') as file:\n",
        "    file.write(\"\"\"\n",
        "def say_hello(name):\n",
        "    return f\"Hello, {name}!\"\n",
        "    \"\"\")"
      ],
      "metadata": {
        "id": "H1QuagxBxkeM"
      },
      "execution_count": null,
      "outputs": []
    },
    {
      "cell_type": "code",
      "source": [
        "import mapo\n",
        "\n",
        "# greetings 모듈의 say_hello 함수 사용하기\n",
        "print(mapo.say_hello(\"나루\"))  # 출력: Hello, 나루!\n"
      ],
      "metadata": {
        "colab": {
          "base_uri": "https://localhost:8080/"
        },
        "id": "sh1edaZyxZ-j",
        "outputId": "42c28c0e-435e-43b8-bc6a-5c1671c911cd"
      },
      "execution_count": null,
      "outputs": [
        {
          "output_type": "stream",
          "name": "stdout",
          "text": [
            "Hello, 나루!\n"
          ]
        }
      ]
    },
    {
      "cell_type": "markdown",
      "source": [
        "## 패키지 만들기\n"
      ],
      "metadata": {
        "id": "Iqf9p4gkx8Bt"
      }
    },
    {
      "cell_type": "markdown",
      "source": [
        "### maponaru 패키지 구조:\n",
        "\n"
      ],
      "metadata": {
        "id": "HqLoOt97x-Se"
      }
    },
    {
      "cell_type": "markdown",
      "source": [
        "```\n",
        "maponaru   \n",
        "├── __init__.py   \n",
        "├── math_tools.py   \n",
        "└── string_tools.py   \n",
        "\n",
        "```"
      ],
      "metadata": {
        "id": "FQiIgT2RyBJ0"
      }
    },
    {
      "cell_type": "code",
      "source": [
        "import os"
      ],
      "metadata": {
        "id": "tCq_7bVixeNU"
      },
      "execution_count": null,
      "outputs": []
    },
    {
      "cell_type": "code",
      "source": [
        "os.makedirs(\"maponaru\", exist_ok=True)"
      ],
      "metadata": {
        "id": "kRqnHcnWybF0"
      },
      "execution_count": null,
      "outputs": []
    },
    {
      "cell_type": "markdown",
      "source": [
        "### `__init__.py`"
      ],
      "metadata": {
        "id": "lmK2V8j3zANM"
      }
    },
    {
      "cell_type": "code",
      "source": [
        "with open('./maponaru/__init__.py', 'w') as file:\n",
        "    file.write(\"\"\"\n",
        "    \"\"\")"
      ],
      "metadata": {
        "id": "ir5MvwhmzH8c"
      },
      "execution_count": null,
      "outputs": []
    },
    {
      "cell_type": "markdown",
      "source": [
        "### `math_tools.py`"
      ],
      "metadata": {
        "id": "X6fyXyulysUD"
      }
    },
    {
      "cell_type": "code",
      "source": [
        "with open('./maponaru/math_tools.py', 'w') as file:\n",
        "    file.write(\"\"\"\n",
        "def add(a, b):\n",
        "    return a + b\n",
        "    \"\"\")"
      ],
      "metadata": {
        "id": "a-d8kMLtyhME"
      },
      "execution_count": null,
      "outputs": []
    },
    {
      "cell_type": "markdown",
      "source": [
        "### `string_tools.py`"
      ],
      "metadata": {
        "id": "lxzKSCLNywy8"
      }
    },
    {
      "cell_type": "code",
      "source": [
        "with open('./maponaru/string_tools.py', 'w') as file:\n",
        "    file.write(\"\"\"\n",
        "def capitalize(text):\n",
        "    return text.capitalize()\n",
        "    \"\"\")"
      ],
      "metadata": {
        "id": "ApOSbyjtyxMk"
      },
      "execution_count": null,
      "outputs": []
    },
    {
      "cell_type": "markdown",
      "source": [
        "### 패키지 사용하기"
      ],
      "metadata": {
        "id": "NBhaxRiZy3Sy"
      }
    },
    {
      "cell_type": "code",
      "source": [
        "from maponaru import math_tools, string_tools"
      ],
      "metadata": {
        "id": "hovD8EXFy1HD"
      },
      "execution_count": null,
      "outputs": []
    },
    {
      "cell_type": "code",
      "source": [
        "# math_tools의 add 함수 사용하기\n",
        "print(math_tools.add(3, 4))  # 결과: 7"
      ],
      "metadata": {
        "colab": {
          "base_uri": "https://localhost:8080/"
        },
        "id": "zvjwf1lEy6iT",
        "outputId": "00c677ff-9a8e-4c75-fe95-64083e6a7308"
      },
      "execution_count": null,
      "outputs": [
        {
          "output_type": "stream",
          "name": "stdout",
          "text": [
            "7\n"
          ]
        }
      ]
    },
    {
      "cell_type": "code",
      "source": [
        "# string_tools의 capitalize 함수 사용하기\n",
        "print(string_tools.capitalize(\"hello\"))  # 결과: Hello"
      ],
      "metadata": {
        "colab": {
          "base_uri": "https://localhost:8080/"
        },
        "id": "VUnbc_AVzOO0",
        "outputId": "27f60af2-492c-4b9c-cd51-a97df44db43b"
      },
      "execution_count": null,
      "outputs": [
        {
          "output_type": "stream",
          "name": "stdout",
          "text": [
            "Hello\n"
          ]
        }
      ]
    },
    {
      "cell_type": "markdown",
      "source": [
        "---"
      ],
      "metadata": {
        "id": "RpBJBCB9zSkz"
      }
    }
  ]
}